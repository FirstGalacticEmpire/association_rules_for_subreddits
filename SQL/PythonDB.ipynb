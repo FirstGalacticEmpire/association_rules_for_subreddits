{
 "cells": [
  {
   "cell_type": "code",
   "execution_count": 1,
   "metadata": {},
   "outputs": [],
   "source": [
    "import pandas as pd"
   ]
  },
  {
   "cell_type": "code",
   "execution_count": 2,
   "metadata": {},
   "outputs": [],
   "source": [
    "rules = pd.read_json(\"../data/arules.json\")\n",
    "rules[\"antecedents\"] = rules[\"antecedents\"].apply(lambda x: frozenset(x))\n",
    "rules[\"consequents\"] = rules[\"consequents\"].apply(lambda x: frozenset(x))"
   ]
  },
  {
   "cell_type": "code",
   "execution_count": 3,
   "metadata": {},
   "outputs": [
    {
     "data": {
      "text/html": [
       "<div>\n",
       "<style scoped>\n",
       "    .dataframe tbody tr th:only-of-type {\n",
       "        vertical-align: middle;\n",
       "    }\n",
       "\n",
       "    .dataframe tbody tr th {\n",
       "        vertical-align: top;\n",
       "    }\n",
       "\n",
       "    .dataframe thead th {\n",
       "        text-align: right;\n",
       "    }\n",
       "</style>\n",
       "<table border=\"1\" class=\"dataframe\">\n",
       "  <thead>\n",
       "    <tr style=\"text-align: right;\">\n",
       "      <th></th>\n",
       "      <th>antecedents</th>\n",
       "      <th>consequents</th>\n",
       "      <th>antecedent support</th>\n",
       "      <th>consequent support</th>\n",
       "      <th>support</th>\n",
       "      <th>confidence</th>\n",
       "      <th>lift</th>\n",
       "      <th>leverage</th>\n",
       "      <th>conviction</th>\n",
       "    </tr>\n",
       "  </thead>\n",
       "  <tbody>\n",
       "    <tr>\n",
       "      <th>0</th>\n",
       "      <td>(IAmA)</td>\n",
       "      <td>(AskReddit)</td>\n",
       "      <td>0.217120</td>\n",
       "      <td>0.480390</td>\n",
       "      <td>0.127371</td>\n",
       "      <td>0.586641</td>\n",
       "      <td>1.221177</td>\n",
       "      <td>0.023069</td>\n",
       "      <td>1.257043</td>\n",
       "    </tr>\n",
       "    <tr>\n",
       "      <th>1</th>\n",
       "      <td>(fffffffuuuuuuuuuuuu)</td>\n",
       "      <td>(IAmA)</td>\n",
       "      <td>0.003648</td>\n",
       "      <td>0.217120</td>\n",
       "      <td>0.002052</td>\n",
       "      <td>0.562500</td>\n",
       "      <td>2.590737</td>\n",
       "      <td>0.001260</td>\n",
       "      <td>1.789441</td>\n",
       "    </tr>\n",
       "    <tr>\n",
       "      <th>2</th>\n",
       "      <td>(todayilearned)</td>\n",
       "      <td>(IAmA)</td>\n",
       "      <td>0.013818</td>\n",
       "      <td>0.217120</td>\n",
       "      <td>0.008072</td>\n",
       "      <td>0.584158</td>\n",
       "      <td>2.690491</td>\n",
       "      <td>0.005072</td>\n",
       "      <td>1.882641</td>\n",
       "    </tr>\n",
       "    <tr>\n",
       "      <th>3</th>\n",
       "      <td>(wikipedia)</td>\n",
       "      <td>(IAmA)</td>\n",
       "      <td>0.004378</td>\n",
       "      <td>0.217120</td>\n",
       "      <td>0.002280</td>\n",
       "      <td>0.520833</td>\n",
       "      <td>2.398831</td>\n",
       "      <td>0.001330</td>\n",
       "      <td>1.633837</td>\n",
       "    </tr>\n",
       "    <tr>\n",
       "      <th>4</th>\n",
       "      <td>(bestof)</td>\n",
       "      <td>(IAmA)</td>\n",
       "      <td>0.002782</td>\n",
       "      <td>0.217120</td>\n",
       "      <td>0.001687</td>\n",
       "      <td>0.606557</td>\n",
       "      <td>2.793655</td>\n",
       "      <td>0.001083</td>\n",
       "      <td>1.989821</td>\n",
       "    </tr>\n",
       "    <tr>\n",
       "      <th>...</th>\n",
       "      <td>...</td>\n",
       "      <td>...</td>\n",
       "      <td>...</td>\n",
       "      <td>...</td>\n",
       "      <td>...</td>\n",
       "      <td>...</td>\n",
       "      <td>...</td>\n",
       "      <td>...</td>\n",
       "      <td>...</td>\n",
       "    </tr>\n",
       "    <tr>\n",
       "      <th>102302</th>\n",
       "      <td>(science, politics, funny, pics, worldnews, pr...</td>\n",
       "      <td>(reddit.com, WTF, technology)</td>\n",
       "      <td>0.002417</td>\n",
       "      <td>0.017968</td>\n",
       "      <td>0.001323</td>\n",
       "      <td>0.547170</td>\n",
       "      <td>30.452639</td>\n",
       "      <td>0.001279</td>\n",
       "      <td>2.168654</td>\n",
       "    </tr>\n",
       "    <tr>\n",
       "      <th>102303</th>\n",
       "      <td>(science, politics, funny, WTF, worldnews, pro...</td>\n",
       "      <td>(pics, reddit.com, technology)</td>\n",
       "      <td>0.002371</td>\n",
       "      <td>0.017785</td>\n",
       "      <td>0.001323</td>\n",
       "      <td>0.557692</td>\n",
       "      <td>31.356607</td>\n",
       "      <td>0.001280</td>\n",
       "      <td>2.220659</td>\n",
       "    </tr>\n",
       "    <tr>\n",
       "      <th>102304</th>\n",
       "      <td>(politics, funny, pics, WTF, worldnews, progra...</td>\n",
       "      <td>(reddit.com, science, technology)</td>\n",
       "      <td>0.002645</td>\n",
       "      <td>0.014867</td>\n",
       "      <td>0.001323</td>\n",
       "      <td>0.500000</td>\n",
       "      <td>33.631902</td>\n",
       "      <td>0.001283</td>\n",
       "      <td>1.970266</td>\n",
       "    </tr>\n",
       "    <tr>\n",
       "      <th>102305</th>\n",
       "      <td>(technology, politics, funny, worldnews, progr...</td>\n",
       "      <td>(pics, reddit.com, science, WTF)</td>\n",
       "      <td>0.002326</td>\n",
       "      <td>0.021707</td>\n",
       "      <td>0.001323</td>\n",
       "      <td>0.568627</td>\n",
       "      <td>26.195090</td>\n",
       "      <td>0.001272</td>\n",
       "      <td>2.267860</td>\n",
       "    </tr>\n",
       "    <tr>\n",
       "      <th>102306</th>\n",
       "      <td>(technology, funny, WTF, worldnews, programming)</td>\n",
       "      <td>(pics, reddit.com, science, politics)</td>\n",
       "      <td>0.002599</td>\n",
       "      <td>0.016417</td>\n",
       "      <td>0.001323</td>\n",
       "      <td>0.508772</td>\n",
       "      <td>30.989864</td>\n",
       "      <td>0.001280</td>\n",
       "      <td>2.002293</td>\n",
       "    </tr>\n",
       "  </tbody>\n",
       "</table>\n",
       "<p>102307 rows × 9 columns</p>\n",
       "</div>"
      ],
      "text/plain": [
       "                                              antecedents  \\\n",
       "0                                                  (IAmA)   \n",
       "1                                   (fffffffuuuuuuuuuuuu)   \n",
       "2                                         (todayilearned)   \n",
       "3                                             (wikipedia)   \n",
       "4                                                (bestof)   \n",
       "...                                                   ...   \n",
       "102302  (science, politics, funny, pics, worldnews, pr...   \n",
       "102303  (science, politics, funny, WTF, worldnews, pro...   \n",
       "102304  (politics, funny, pics, WTF, worldnews, progra...   \n",
       "102305  (technology, politics, funny, worldnews, progr...   \n",
       "102306   (technology, funny, WTF, worldnews, programming)   \n",
       "\n",
       "                                  consequents  antecedent support  \\\n",
       "0                                 (AskReddit)            0.217120   \n",
       "1                                      (IAmA)            0.003648   \n",
       "2                                      (IAmA)            0.013818   \n",
       "3                                      (IAmA)            0.004378   \n",
       "4                                      (IAmA)            0.002782   \n",
       "...                                       ...                 ...   \n",
       "102302          (reddit.com, WTF, technology)            0.002417   \n",
       "102303         (pics, reddit.com, technology)            0.002371   \n",
       "102304      (reddit.com, science, technology)            0.002645   \n",
       "102305       (pics, reddit.com, science, WTF)            0.002326   \n",
       "102306  (pics, reddit.com, science, politics)            0.002599   \n",
       "\n",
       "        consequent support   support  confidence       lift  leverage  \\\n",
       "0                 0.480390  0.127371    0.586641   1.221177  0.023069   \n",
       "1                 0.217120  0.002052    0.562500   2.590737  0.001260   \n",
       "2                 0.217120  0.008072    0.584158   2.690491  0.005072   \n",
       "3                 0.217120  0.002280    0.520833   2.398831  0.001330   \n",
       "4                 0.217120  0.001687    0.606557   2.793655  0.001083   \n",
       "...                    ...       ...         ...        ...       ...   \n",
       "102302            0.017968  0.001323    0.547170  30.452639  0.001279   \n",
       "102303            0.017785  0.001323    0.557692  31.356607  0.001280   \n",
       "102304            0.014867  0.001323    0.500000  33.631902  0.001283   \n",
       "102305            0.021707  0.001323    0.568627  26.195090  0.001272   \n",
       "102306            0.016417  0.001323    0.508772  30.989864  0.001280   \n",
       "\n",
       "        conviction  \n",
       "0         1.257043  \n",
       "1         1.789441  \n",
       "2         1.882641  \n",
       "3         1.633837  \n",
       "4         1.989821  \n",
       "...            ...  \n",
       "102302    2.168654  \n",
       "102303    2.220659  \n",
       "102304    1.970266  \n",
       "102305    2.267860  \n",
       "102306    2.002293  \n",
       "\n",
       "[102307 rows x 9 columns]"
      ]
     },
     "execution_count": 3,
     "metadata": {},
     "output_type": "execute_result"
    }
   ],
   "source": [
    "rules"
   ]
  },
  {
   "cell_type": "code",
   "execution_count": 4,
   "metadata": {},
   "outputs": [],
   "source": [
    "import sqlite3\n",
    "from itertools import chain"
   ]
  },
  {
   "cell_type": "code",
   "execution_count": 6,
   "metadata": {},
   "outputs": [],
   "source": [
    "con = sqlite3.connect('../data/example.db')"
   ]
  },
  {
   "cell_type": "code",
   "execution_count": 7,
   "metadata": {},
   "outputs": [],
   "source": [
    "def create_db(conn):\n",
    "    cur = con.cursor()\n",
    "    cur.execute('''\n",
    "    CREATE TABLE IF NOT EXISTS Subreddits (\n",
    "        id integer PRIMARY KEY,\n",
    "        name text NOT NULL\n",
    "    )\n",
    "    ''')\n",
    "\n",
    "    cur.execute('''\n",
    "    CREATE TABLE IF NOT EXISTS Rules (\n",
    "        id INTEGER PRIMARY KEY,\n",
    "        support REAL NOT NULL DEFAULT 0,\n",
    "        confidence REAL NOT NULL DEFAULT 0,\n",
    "        lift REAL NOT NULL DEFAULT 0\n",
    "    )\n",
    "    ''')\n",
    "\n",
    "\n",
    "    cur.execute('''\n",
    "    CREATE TABLE IF NOT EXISTS Antecedents (\n",
    "        rule_id integer not null,\n",
    "        subreddit_id integer not null,\n",
    "        FOREIGN KEY(subreddit_id) REFERENCES Subredsits(id),\n",
    "        FOREIGN KEY(rule_id) REFERENCES Rules(id),\n",
    "        PRIMARY KEY(rule_id, subreddit_id)\n",
    "    )\n",
    "    ''')\n",
    "\n",
    "    cur.execute('''\n",
    "    CREATE TABLE IF NOT EXISTS Consequents (\n",
    "        rule_id integer not null,\n",
    "        subreddit_id integer not null,\n",
    "        FOREIGN KEY(subreddit_id) REFERENCES Subredsits(id),\n",
    "        FOREIGN KEY(rule_id) REFERENCES Rules(id),\n",
    "        PRIMARY KEY(rule_id, subreddit_id)\n",
    "    )\n",
    "    ''')\n",
    "    con.commit()"
   ]
  },
  {
   "cell_type": "code",
   "execution_count": 8,
   "metadata": {},
   "outputs": [],
   "source": [
    "def add_rule(rule, cur):\n",
    "    data = (rule[\"support\"], rule[\"confidence\"], rule[\"lift\"])\n",
    "    \n",
    "    sql = '''INSERT INTO Rules (support,confidence, lift) VALUES(?,?,?)'''\n",
    "    cur.execute(sql,data)\n",
    "    return cur.lastrowid\n",
    "\n",
    "def add_antecedents(rule_id, antecedents, cur):    \n",
    "    sql = '''INSERT INTO antecedents(rule_id, subreddit_id) VALUES '''\n",
    "    sql += ','.join([\"(?, (SELECT id from Subreddits WHERE name = ?))\" for i in range(len(antecedents))])\n",
    "    data = chain.from_iterable(zip([rule_id]*len(antecedents), [an for an in antecedents]))\n",
    "    cur.execute(sql, tuple(data))\n",
    "    \n",
    "def add_consequents(rule_id, consequents, cur):    \n",
    "    sql = '''INSERT INTO Consequents(rule_id, subreddit_id) VALUES '''\n",
    "    sql += ','.join([\"(?, (SELECT id from Subreddits WHERE name = ?))\" for i in range(len(consequents))])\n",
    "    data = chain.from_iterable(zip([rule_id]*len(consequents), [an for an in consequents]))\n",
    "    cur.execute(sql, tuple(data))\n",
    "    \n",
    "    \n",
    "def add_subreddits(subreddits, cur):\n",
    "    sql = '''SELECT name FROM Subreddits'''\n",
    "    cur.execute(sql)\n",
    "    already_added = set([sub[0] for sub in cur.fetchall()])\n",
    "    to_add = subreddits - already_added\n",
    "    if len(to_add) == 0:\n",
    "        return\n",
    "    sql = 'INSERT INTO subreddits(name) values '+','.join([ \"(?)\" for i in range(len(to_add))])\n",
    "    data = list(to_add)\n",
    "    cur.execute(sql,data)\n",
    "        "
   ]
  },
  {
   "cell_type": "code",
   "execution_count": 9,
   "metadata": {},
   "outputs": [],
   "source": [
    "create_db(con)"
   ]
  },
  {
   "cell_type": "code",
   "execution_count": 10,
   "metadata": {},
   "outputs": [],
   "source": [
    "subreddits = set(item for sublist in rules[\"antecedents\"] for item in sublist)"
   ]
  },
  {
   "cell_type": "code",
   "execution_count": 11,
   "metadata": {
    "scrolled": true
   },
   "outputs": [],
   "source": [
    "cur=con.cursor()\n",
    "add_subreddits(subreddits, cur)"
   ]
  },
  {
   "cell_type": "code",
   "execution_count": 12,
   "metadata": {},
   "outputs": [],
   "source": [
    "cur = con.cursor()\n",
    "for index, row in rules.iterrows():\n",
    "    rule_id = add_rule(row,cur)\n",
    "    add_antecedents(rule_id, row[\"antecedents\"],cur)\n",
    "    add_consequents(rule_id, row[\"consequents\"], cur)\n",
    "    \n",
    "con.commit()"
   ]
  },
  {
   "cell_type": "code",
   "execution_count": 13,
   "metadata": {},
   "outputs": [],
   "source": [
    "def get_antecendents(rule_id, cur):\n",
    "    sql = '''\n",
    "    SELECT subreddits.name\n",
    "    FROM rules\n",
    "    INNER JOIN antecedents ON rules.id = Antecedents.rule_id\n",
    "    INNER JOIN subreddits ON Antecedents.subreddit_id = subreddits.id\n",
    "    WHERE rules.id = ?\n",
    "    '''\n",
    "    data = (rule_id,)\n",
    "    cur.execute(sql,data)\n",
    "    antecedents = cur.fetchall()\n",
    "    return antecedents\n",
    "\n",
    "def get_consequents(rule_id, cur):\n",
    "    sql = '''\n",
    "    SELECT subreddits.name\n",
    "    FROM rules\n",
    "    INNER JOIN Consequents ON rules.id = Consequents.rule_id\n",
    "    INNER JOIN subreddits ON Consequents.subreddit_id = subreddits.id\n",
    "    WHERE rules.id = ?\n",
    "    '''\n",
    "    data = (rule_id,)\n",
    "    cur.execute(sql,data)\n",
    "    consequents = cur.fetchall()\n",
    "    return consequents\n",
    "\n",
    "def get_rule_data(rule_id, cur):\n",
    "    sql = '''\n",
    "    SELECT *\n",
    "    FROM rules\n",
    "    WHERE rules.id=?'''\n",
    "    data=(rule_id,)\n",
    "    cur.execute(sql,data)\n",
    "    res = cur.fetchall()\n",
    "    if len(res) == 0:\n",
    "        return None\n",
    "    return res[0]\n",
    "\n",
    "def get_rule(rule_id,cur):\n",
    "    rule = get_rule_data(rule_id, cur)\n",
    "    antecedents = get_antecendents(rule_id, cur)\n",
    "    consequents = get_consequents(rule_id, cur)\n",
    "    print(rule)\n",
    "    print(\"IF:\",antecedents)\n",
    "    print(\"THEN\",consequents)\n"
   ]
  },
  {
   "cell_type": "code",
   "execution_count": 14,
   "metadata": {},
   "outputs": [
    {
     "name": "stdout",
     "output_type": "stream",
     "text": [
      "(95, 0.0015505290000000001, 0.5074626866, 1.7674145157)\n",
      "IF: [('bicycling',)]\n",
      "THEN [('reddit.com',)]\n"
     ]
    }
   ],
   "source": [
    "get_rule(95, cur)"
   ]
  },
  {
   "cell_type": "code",
   "execution_count": 15,
   "metadata": {},
   "outputs": [],
   "source": [
    "def get_subreddit_ids(subreddits, cur):\n",
    "    sql = 'SELECT id FROM Subreddits WHERE name IN ('+','.join([\"?\"]*len(subreddits))+\")\"\n",
    "    data = tuple(subreddits)\n",
    "    cur.execute(sql, data)\n",
    "    result = set([sub[0] for sub in cur.fetchall()])\n",
    "    return result\n",
    "\n",
    "def get_appropriate_rule_ids(subreddit_ids, cur):\n",
    "    sql = '''\n",
    "    SELECT R.id\n",
    "    FROM rules as R\n",
    "    INNER JOIN antecedents as A ON R.id = A.rule_id\n",
    "    INNER JOIN Consequents as C ON R.id = C.rule_id\n",
    "    WHERE \n",
    "    C.subreddit_id NOT IN ('''+','.join([\"?\"]*len(subreddit_ids))+''')\n",
    "    GROUP BY R.id\n",
    "    HAVING\n",
    "    count(*) > 0 AND\n",
    "    count(*) = (SELECT count(*)\n",
    "                FROM antecedents \n",
    "                WHERE rule_id = R.id AND\n",
    "                antecedents.subreddit_id IN ('''+','.join([\"?\"]*len(subreddit_ids))+'''))\n",
    "    '''\n",
    "    \n",
    "    cur.execute(sql, tuple(subreddit_ids)+tuple(subreddit_ids))\n",
    "    rule_candidates = [el[0] for el in cur.fetchall()]\n",
    "    return rule_candidates\n",
    "\n",
    "\n",
    "def get_recomendations(subreddits, cur):\n",
    "    subreddit_ids = get_subreddit_ids(subreddits, cur)\n",
    "    rule_candidates = get_appropriate_rule_ids(subreddit_ids, cur)\n",
    "    sql = '''\n",
    "    SELECT S.name\n",
    "    FROM consequents AS C\n",
    "    INNER JOIN Rules as R ON C.rule_id = R.id\n",
    "    INNER JOIN subreddits as S ON C.subreddit_id = S.id\n",
    "    WHERE \n",
    "    C.rule_id IN ('''+','.join([\"?\"]*len(rule_candidates))+''') AND\n",
    "    C.subreddit_id NOT IN ('''+','.join([\"?\"]*len(subreddit_ids))+''')\n",
    "    GROUP BY C.subreddit_id\n",
    "    ORDER BY MAX(R.confidence + R.support) DESC\n",
    "    '''\n",
    "    cur.execute(sql, tuple(rule_candidates)+ tuple(subreddit_ids))\n",
    "    return cur.fetchall()\n",
    "    "
   ]
  },
  {
   "cell_type": "code",
   "execution_count": 16,
   "metadata": {},
   "outputs": [
    {
     "data": {
      "text/plain": [
       "{13, 27, 37, 40, 67}"
      ]
     },
     "execution_count": 16,
     "metadata": {},
     "output_type": "execute_result"
    }
   ],
   "source": [
    "get_subreddit_ids({'funny', 'WTF', 'math', 'fffffffuuuuuuuuuuuu', 'bestof'}, cur)"
   ]
  },
  {
   "cell_type": "code",
   "execution_count": 17,
   "metadata": {},
   "outputs": [],
   "source": [
    "# ids = get_appropriate_rule_ids(get_subreddit_ids({'funny', 'WTF', 'math', 'fffffffuuuuuuuuuuuu', 'bestof'},cur), cur)\n",
    "# for idx in ids:\n",
    "#     get_rule(idx, cur)"
   ]
  },
  {
   "cell_type": "code",
   "execution_count": 78,
   "metadata": {},
   "outputs": [
    {
     "name": "stdout",
     "output_type": "stream",
     "text": [
      "422 ms ± 5.79 ms per loop (mean ± std. dev. of 7 runs, 3 loops each)\n"
     ]
    }
   ],
   "source": [
    "%timeit -n 3 get_recomendations({'funny', 'WTF', 'math', 'fffffffuuuuuuuuuuuu', 'bestof', 'offbeat'}, cur)"
   ]
  },
  {
   "cell_type": "code",
   "execution_count": 18,
   "metadata": {},
   "outputs": [
    {
     "data": {
      "text/plain": [
       "[('pics',),\n",
       " ('reddit.com',),\n",
       " ('AskReddit',),\n",
       " ('IAmA',),\n",
       " ('programming',),\n",
       " ('science',),\n",
       " ('politics',)]"
      ]
     },
     "execution_count": 18,
     "metadata": {},
     "output_type": "execute_result"
    }
   ],
   "source": [
    "get_recomendations({'funny', 'WTF', 'math', 'fffffffuuuuuuuuuuuu', 'bestof', 'offbeat'}, cur)"
   ]
  },
  {
   "cell_type": "code",
   "execution_count": 19,
   "metadata": {},
   "outputs": [
    {
     "ename": "NameError",
     "evalue": "name 'subreddit_ids' is not defined",
     "output_type": "error",
     "traceback": [
      "\u001b[0;31m---------------------------------------------------------------------------\u001b[0m",
      "\u001b[0;31mNameError\u001b[0m                                 Traceback (most recent call last)",
      "\u001b[0;32m<ipython-input-19-8b2c90017435>\u001b[0m in \u001b[0;36m<module>\u001b[0;34m\u001b[0m\n\u001b[1;32m      9\u001b[0m     \u001b[0mGROUP\u001b[0m \u001b[0mBY\u001b[0m \u001b[0mR\u001b[0m\u001b[0;34m.\u001b[0m\u001b[0mid\u001b[0m\u001b[0;34m\u001b[0m\u001b[0;34m\u001b[0m\u001b[0m\n\u001b[1;32m     10\u001b[0m     \u001b[0mHAVING\u001b[0m\u001b[0;34m\u001b[0m\u001b[0;34m\u001b[0m\u001b[0m\n\u001b[0;32m---> 11\u001b[0;31m     \u001b[0mA\u001b[0m\u001b[0;34m.\u001b[0m\u001b[0msubreddit_id\u001b[0m \u001b[0mALL\u001b[0m \u001b[0mIN\u001b[0m \u001b[0;34m(\u001b[0m\u001b[0;34m'''+','.join([\"?\"]*len(subreddit_ids))+'''\u001b[0m\u001b[0;34m)\u001b[0m\u001b[0;34m\u001b[0m\u001b[0;34m\u001b[0m\u001b[0m\n\u001b[0m\u001b[1;32m     12\u001b[0m     '''\n",
      "\u001b[0;31mNameError\u001b[0m: name 'subreddit_ids' is not defined"
     ]
    }
   ],
   "source": [
    "#better sql\n",
    "# sql = '''\n",
    "#     SELECT R.id\n",
    "#     FROM rules as R\n",
    "#     INNER JOIN antecedents as A ON R.id = A.rule_id\n",
    "#     INNER JOIN Consequents as C ON R.id = C.rule_id\n",
    "#     WHERE \n",
    "#     C.subreddit_id NOT IN ('''+','.join([\"?\"]*len(subreddit_ids))+''')\n",
    "#     GROUP BY R.id\n",
    "#     HAVING \n",
    "#     A.subreddit_id ALL IN ('''+','.join([\"?\"]*len(subreddit_ids))+''')\n",
    "#     '''"
   ]
  }
 ],
 "metadata": {
  "kernelspec": {
   "display_name": "Python 3",
   "language": "python",
   "name": "python3"
  },
  "language_info": {
   "codemirror_mode": {
    "name": "ipython",
    "version": 3
   },
   "file_extension": ".py",
   "mimetype": "text/x-python",
   "name": "python",
   "nbconvert_exporter": "python",
   "pygments_lexer": "ipython3",
   "version": "3.7.6"
  }
 },
 "nbformat": 4,
 "nbformat_minor": 4
}
