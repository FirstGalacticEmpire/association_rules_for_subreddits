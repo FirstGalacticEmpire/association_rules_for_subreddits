{
 "cells": [
  {
   "cell_type": "code",
   "execution_count": 1,
   "metadata": {
    "ExecuteTime": {
     "end_time": "2021-05-06T19:45:45.866852Z",
     "start_time": "2021-05-06T19:45:45.552102Z"
    }
   },
   "outputs": [],
   "source": [
    "import json\n",
    "import numpy as np\n",
    "import pandas as pd\n",
    "import plotly.express as px\n",
    "import mlxtend as mlx\n",
    "from tqdm.notebook import tqdm, trange\n",
    "from itertools import chain"
   ]
  },
  {
   "cell_type": "code",
   "execution_count": 2,
   "metadata": {
    "ExecuteTime": {
     "end_time": "2021-05-06T19:45:45.871596Z",
     "start_time": "2021-05-06T19:45:45.868231Z"
    }
   },
   "outputs": [],
   "source": [
    "def read_json(path):\n",
    "    file = open(path,'r+', encoding='utf-8')\n",
    "    data = {}\n",
    "    for line in file.readlines():\n",
    "        try: \n",
    "            dic = json.loads(line)\n",
    "            if dic['author'] in data.keys():\n",
    "                if dic['subreddit'] in data[dic['author']].keys():\n",
    "                    data[dic['author']][dic['subreddit']] +=1\n",
    "                else:\n",
    "                    data[dic['author']][dic['subreddit']] =1\n",
    "            else:\n",
    "                data[dic['author']] = {}\n",
    "                data[dic['author']][dic['subreddit']] = 1\n",
    "        except json.JSONDecodeError:\n",
    "            continue\n",
    "    return data"
   ]
  },
  {
   "cell_type": "code",
   "execution_count": 3,
   "metadata": {
    "ExecuteTime": {
     "end_time": "2021-05-06T19:45:45.874887Z",
     "start_time": "2021-05-06T19:45:45.873006Z"
    }
   },
   "outputs": [],
   "source": [
    "# data = read_json('data/RC_2009-10')"
   ]
  },
  {
   "cell_type": "code",
   "execution_count": 4,
   "metadata": {
    "ExecuteTime": {
     "end_time": "2021-05-06T19:45:45.878113Z",
     "start_time": "2021-05-06T19:45:45.875956Z"
    }
   },
   "outputs": [],
   "source": [
    "def jsonKeys2int(x):\n",
    "    if isinstance(x, dict):\n",
    "            return {int(k):v for k,v in x.items()}\n",
    "    return x"
   ]
  },
  {
   "cell_type": "code",
   "execution_count": 15,
   "metadata": {
    "ExecuteTime": {
     "end_time": "2021-05-06T19:45:45.983565Z",
     "start_time": "2021-05-06T19:45:45.879200Z"
    }
   },
   "outputs": [],
   "source": [
    "data = json.load(open('../reddit_scrapper/data/scrapped_data2.json','r+'))\n",
    "subreddit_names_list = json.load(open('../reddit_scrapper/data/list_of_unique_subreddits2.json','r+'))\n",
    "subreddit_index = dict(zip(subreddit_names_list,range(len(subreddit_names_list))))\n",
    "index_subreddit =  dict(zip(range(len(subreddit_names_list)),subreddit_names_list))"
   ]
  },
  {
   "cell_type": "code",
   "execution_count": 16,
   "metadata": {
    "ExecuteTime": {
     "end_time": "2021-05-06T19:45:45.987352Z",
     "start_time": "2021-05-06T19:45:45.984671Z"
    }
   },
   "outputs": [],
   "source": [
    "def create_matrix(data,matrix_width,subreddit_index):\n",
    "    \"\"\" Creates matrix filled with zeros and iterates over it filling the cells based on \n",
    "        the subreddit-index dictionary\"\"\"\n",
    "    matrix = np.zeros(shape=(len(data),matrix_width))\n",
    "    for idx,redditor in enumerate(data.values()):\n",
    "        for key,value in redditor.items():\n",
    "            matrix[idx,subreddit_index[key]] = value\n",
    "    return matrix"
   ]
  },
  {
   "cell_type": "code",
   "execution_count": 17,
   "metadata": {
    "ExecuteTime": {
     "end_time": "2021-05-06T19:45:45.991824Z",
     "start_time": "2021-05-06T19:45:45.988957Z"
    }
   },
   "outputs": [],
   "source": [
    "def update_dictionaries(new_redditors,subreddit_index,index_subreddit,subreddit_names_list):\n",
    "    \"\"\" Updating index-subreddit,subreddit-index dictionaries and subreddit_names_list according to the\n",
    "        new_redditors- new incoming data\"\"\"\n",
    "    for redditor in new_redditors.values():\n",
    "        for i in redditor.keys():\n",
    "            if i not in subreddit_names_list:\n",
    "                subreddit_index[i] = len(subreddit_index)\n",
    "                index_subreddit[len(index_subreddit)] = i\n",
    "                subreddit_names_list.append(i)\n",
    "    return subreddit_index,index_subreddit,subreddit_names_list"
   ]
  },
  {
   "cell_type": "code",
   "execution_count": 18,
   "metadata": {
    "ExecuteTime": {
     "end_time": "2021-05-06T19:45:45.996032Z",
     "start_time": "2021-05-06T19:45:45.993346Z"
    }
   },
   "outputs": [],
   "source": [
    "def resize_matrix_width(matrix,subreddit_index):\n",
    "    \"\"\" Updating the width of the main matrix to match it with the incoming data\"\"\"\n",
    "    if matrix.shape[1] != len(subreddit_index):\n",
    "        extension = np.zeros((matrix.shape[0],len(subreddit_index)-matrix.shape[1]))\n",
    "        matrix = np.hstack((matrix, extension))\n",
    "    return matrix "
   ]
  },
  {
   "cell_type": "code",
   "execution_count": 19,
   "metadata": {
    "ExecuteTime": {
     "end_time": "2021-05-06T19:45:45.999820Z",
     "start_time": "2021-05-06T19:45:45.997251Z"
    }
   },
   "outputs": [],
   "source": [
    "def update(matrix,new_redditors,subreddit_index,index_subreddit,subreddit_names_list):\n",
    "    \"\"\"Function that manages new incoming data and combines it with the main matrix\"\"\"\n",
    "    subreddit_index,index_subreddit,subreddit_names_list = \\\n",
    "    update_dictionaries(new_redditors,subreddit_index,index_subreddit,subreddit_names_list)\n",
    "    matrix = resize_matrix_width(matrix,subreddit_index)\n",
    "    recent_data = create_matrix(new_redditors,matrix.shape[1],subreddit_index)\n",
    "    matrix = np.vstack((matrix, recent_data))\n",
    "    return matrix,subreddit_index,index_subreddit,subreddit_names_list"
   ]
  },
  {
   "cell_type": "code",
   "execution_count": 20,
   "metadata": {
    "ExecuteTime": {
     "end_time": "2021-05-06T19:45:46.217379Z",
     "start_time": "2021-05-06T19:45:46.001034Z"
    }
   },
   "outputs": [],
   "source": [
    "matrix = create_matrix(data,len(subreddit_names_list),subreddit_index)"
   ]
  },
  {
   "cell_type": "code",
   "execution_count": 21,
   "metadata": {
    "ExecuteTime": {
     "end_time": "2021-05-06T19:45:46.219905Z",
     "start_time": "2021-05-06T19:45:46.218431Z"
    }
   },
   "outputs": [],
   "source": [
    "# matrix,subreddit_index,index_subreddit,subreddit_names_list = update(matrix,new_redditors,subreddit_index,index_subreddit,subreddit_names_list)"
   ]
  },
  {
   "cell_type": "code",
   "execution_count": 22,
   "metadata": {
    "ExecuteTime": {
     "end_time": "2021-05-06T19:45:46.707902Z",
     "start_time": "2021-05-06T19:45:46.221341Z"
    }
   },
   "outputs": [],
   "source": [
    "matrix = np.where(matrix>5,True,False)\n",
    "matrix = matrix[~np.all(matrix == False, axis=1), :]\n",
    "df = pd.DataFrame(matrix)\n",
    "df.rename(columns=index_subreddit,inplace=True)"
   ]
  },
  {
   "cell_type": "code",
   "execution_count": 23,
   "metadata": {
    "ExecuteTime": {
     "end_time": "2021-05-06T19:45:46.960757Z",
     "start_time": "2021-05-06T19:45:46.709082Z"
    }
   },
   "outputs": [],
   "source": [
    "from mlxtend.preprocessing import TransactionEncoder\n",
    "from mlxtend.frequent_patterns import apriori\n",
    "from mlxtend.frequent_patterns import association_rules"
   ]
  },
  {
   "cell_type": "code",
   "execution_count": 28,
   "metadata": {
    "ExecuteTime": {
     "end_time": "2021-05-06T19:45:48.169037Z",
     "start_time": "2021-05-06T19:45:46.962007Z"
    },
    "scrolled": true
   },
   "outputs": [
    {
     "data": {
      "text/html": [
       "<div>\n",
       "<style scoped>\n",
       "    .dataframe tbody tr th:only-of-type {\n",
       "        vertical-align: middle;\n",
       "    }\n",
       "\n",
       "    .dataframe tbody tr th {\n",
       "        vertical-align: top;\n",
       "    }\n",
       "\n",
       "    .dataframe thead th {\n",
       "        text-align: right;\n",
       "    }\n",
       "</style>\n",
       "<table border=\"1\" class=\"dataframe\">\n",
       "  <thead>\n",
       "    <tr style=\"text-align: right;\">\n",
       "      <th></th>\n",
       "      <th>antecedents</th>\n",
       "      <th>consequents</th>\n",
       "      <th>antecedent support</th>\n",
       "      <th>consequent support</th>\n",
       "      <th>support</th>\n",
       "      <th>confidence</th>\n",
       "      <th>lift</th>\n",
       "      <th>leverage</th>\n",
       "      <th>conviction</th>\n",
       "    </tr>\n",
       "  </thead>\n",
       "  <tbody>\n",
       "    <tr>\n",
       "      <th>0</th>\n",
       "      <td>(UWMCShareholders)</td>\n",
       "      <td>(wallstreetbets)</td>\n",
       "      <td>0.000884</td>\n",
       "      <td>0.170815</td>\n",
       "      <td>0.000632</td>\n",
       "      <td>0.714286</td>\n",
       "      <td>4.181636</td>\n",
       "      <td>0.000481</td>\n",
       "      <td>2.902148</td>\n",
       "    </tr>\n",
       "    <tr>\n",
       "      <th>1</th>\n",
       "      <td>(Genshin_Memepact)</td>\n",
       "      <td>(Genshin_Impact)</td>\n",
       "      <td>0.002148</td>\n",
       "      <td>0.031712</td>\n",
       "      <td>0.001516</td>\n",
       "      <td>0.705882</td>\n",
       "      <td>22.259199</td>\n",
       "      <td>0.001448</td>\n",
       "      <td>3.292179</td>\n",
       "    </tr>\n",
       "    <tr>\n",
       "      <th>2</th>\n",
       "      <td>(MVIS)</td>\n",
       "      <td>(wallstreetbets)</td>\n",
       "      <td>0.000884</td>\n",
       "      <td>0.170815</td>\n",
       "      <td>0.000632</td>\n",
       "      <td>0.714286</td>\n",
       "      <td>4.181636</td>\n",
       "      <td>0.000481</td>\n",
       "      <td>2.902148</td>\n",
       "    </tr>\n",
       "    <tr>\n",
       "      <th>3</th>\n",
       "      <td>(SNDL)</td>\n",
       "      <td>(wallstreetbets)</td>\n",
       "      <td>0.001390</td>\n",
       "      <td>0.170815</td>\n",
       "      <td>0.001011</td>\n",
       "      <td>0.727273</td>\n",
       "      <td>4.257665</td>\n",
       "      <td>0.000773</td>\n",
       "      <td>3.040345</td>\n",
       "    </tr>\n",
       "    <tr>\n",
       "      <th>4</th>\n",
       "      <td>(wallstreetbetsOGs)</td>\n",
       "      <td>(wallstreetbets)</td>\n",
       "      <td>0.003159</td>\n",
       "      <td>0.170815</td>\n",
       "      <td>0.002274</td>\n",
       "      <td>0.720000</td>\n",
       "      <td>4.215089</td>\n",
       "      <td>0.001735</td>\n",
       "      <td>2.961375</td>\n",
       "    </tr>\n",
       "    <tr>\n",
       "      <th>5</th>\n",
       "      <td>(Vitards)</td>\n",
       "      <td>(wallstreetbets)</td>\n",
       "      <td>0.001011</td>\n",
       "      <td>0.170815</td>\n",
       "      <td>0.000758</td>\n",
       "      <td>0.750000</td>\n",
       "      <td>4.390717</td>\n",
       "      <td>0.000585</td>\n",
       "      <td>3.316740</td>\n",
       "    </tr>\n",
       "    <tr>\n",
       "      <th>6</th>\n",
       "      <td>(Advice)</td>\n",
       "      <td>(AskReddit)</td>\n",
       "      <td>0.002021</td>\n",
       "      <td>0.261402</td>\n",
       "      <td>0.001642</td>\n",
       "      <td>0.812500</td>\n",
       "      <td>3.108235</td>\n",
       "      <td>0.001114</td>\n",
       "      <td>3.939187</td>\n",
       "    </tr>\n",
       "    <tr>\n",
       "      <th>7</th>\n",
       "      <td>(PolskaPolityka)</td>\n",
       "      <td>(Polska)</td>\n",
       "      <td>0.000758</td>\n",
       "      <td>0.022868</td>\n",
       "      <td>0.000758</td>\n",
       "      <td>1.000000</td>\n",
       "      <td>43.729282</td>\n",
       "      <td>0.000741</td>\n",
       "      <td>inf</td>\n",
       "    </tr>\n",
       "    <tr>\n",
       "      <th>8</th>\n",
       "      <td>(konfa)</td>\n",
       "      <td>(Polska)</td>\n",
       "      <td>0.000632</td>\n",
       "      <td>0.022868</td>\n",
       "      <td>0.000505</td>\n",
       "      <td>0.800000</td>\n",
       "      <td>34.983425</td>\n",
       "      <td>0.000491</td>\n",
       "      <td>4.885660</td>\n",
       "    </tr>\n",
       "    <tr>\n",
       "      <th>9</th>\n",
       "      <td>(poland)</td>\n",
       "      <td>(Polska)</td>\n",
       "      <td>0.001011</td>\n",
       "      <td>0.022868</td>\n",
       "      <td>0.000884</td>\n",
       "      <td>0.875000</td>\n",
       "      <td>38.263122</td>\n",
       "      <td>0.000861</td>\n",
       "      <td>7.817056</td>\n",
       "    </tr>\n",
       "    <tr>\n",
       "      <th>10</th>\n",
       "      <td>(stocks)</td>\n",
       "      <td>(wallstreetbets)</td>\n",
       "      <td>0.003538</td>\n",
       "      <td>0.170815</td>\n",
       "      <td>0.002527</td>\n",
       "      <td>0.714286</td>\n",
       "      <td>4.181636</td>\n",
       "      <td>0.001923</td>\n",
       "      <td>2.902148</td>\n",
       "    </tr>\n",
       "    <tr>\n",
       "      <th>11</th>\n",
       "      <td>(xboxone)</td>\n",
       "      <td>(gaming)</td>\n",
       "      <td>0.000758</td>\n",
       "      <td>0.033607</td>\n",
       "      <td>0.000632</td>\n",
       "      <td>0.833333</td>\n",
       "      <td>24.796366</td>\n",
       "      <td>0.000606</td>\n",
       "      <td>5.798358</td>\n",
       "    </tr>\n",
       "    <tr>\n",
       "      <th>12</th>\n",
       "      <td>(zelda)</td>\n",
       "      <td>(gaming)</td>\n",
       "      <td>0.000884</td>\n",
       "      <td>0.033607</td>\n",
       "      <td>0.000632</td>\n",
       "      <td>0.714286</td>\n",
       "      <td>21.254028</td>\n",
       "      <td>0.000602</td>\n",
       "      <td>3.382375</td>\n",
       "    </tr>\n",
       "    <tr>\n",
       "      <th>13</th>\n",
       "      <td>(AMA)</td>\n",
       "      <td>(AskReddit)</td>\n",
       "      <td>0.001390</td>\n",
       "      <td>0.261402</td>\n",
       "      <td>0.001137</td>\n",
       "      <td>0.818182</td>\n",
       "      <td>3.129971</td>\n",
       "      <td>0.000774</td>\n",
       "      <td>4.062287</td>\n",
       "    </tr>\n",
       "    <tr>\n",
       "      <th>14</th>\n",
       "      <td>(WallStreetbetsELITE)</td>\n",
       "      <td>(wallstreetbets)</td>\n",
       "      <td>0.001516</td>\n",
       "      <td>0.170815</td>\n",
       "      <td>0.001137</td>\n",
       "      <td>0.750000</td>\n",
       "      <td>4.390717</td>\n",
       "      <td>0.000878</td>\n",
       "      <td>3.316740</td>\n",
       "    </tr>\n",
       "    <tr>\n",
       "      <th>15</th>\n",
       "      <td>(tipofmytongue)</td>\n",
       "      <td>(AskReddit)</td>\n",
       "      <td>0.000758</td>\n",
       "      <td>0.261402</td>\n",
       "      <td>0.000632</td>\n",
       "      <td>0.833333</td>\n",
       "      <td>3.187933</td>\n",
       "      <td>0.000434</td>\n",
       "      <td>4.431586</td>\n",
       "    </tr>\n",
       "    <tr>\n",
       "      <th>16</th>\n",
       "      <td>(polls)</td>\n",
       "      <td>(AskReddit)</td>\n",
       "      <td>0.001263</td>\n",
       "      <td>0.261402</td>\n",
       "      <td>0.000884</td>\n",
       "      <td>0.700000</td>\n",
       "      <td>2.677864</td>\n",
       "      <td>0.000554</td>\n",
       "      <td>2.461992</td>\n",
       "    </tr>\n",
       "    <tr>\n",
       "      <th>17</th>\n",
       "      <td>(CLOV)</td>\n",
       "      <td>(wallstreetbets)</td>\n",
       "      <td>0.002401</td>\n",
       "      <td>0.170815</td>\n",
       "      <td>0.002401</td>\n",
       "      <td>1.000000</td>\n",
       "      <td>5.854290</td>\n",
       "      <td>0.001990</td>\n",
       "      <td>inf</td>\n",
       "    </tr>\n",
       "    <tr>\n",
       "      <th>18</th>\n",
       "      <td>(BB_Stock)</td>\n",
       "      <td>(wallstreetbets)</td>\n",
       "      <td>0.000632</td>\n",
       "      <td>0.170815</td>\n",
       "      <td>0.000632</td>\n",
       "      <td>1.000000</td>\n",
       "      <td>5.854290</td>\n",
       "      <td>0.000524</td>\n",
       "      <td>inf</td>\n",
       "    </tr>\n",
       "    <tr>\n",
       "      <th>19</th>\n",
       "      <td>(options)</td>\n",
       "      <td>(wallstreetbets)</td>\n",
       "      <td>0.001516</td>\n",
       "      <td>0.170815</td>\n",
       "      <td>0.001263</td>\n",
       "      <td>0.833333</td>\n",
       "      <td>4.878575</td>\n",
       "      <td>0.001004</td>\n",
       "      <td>4.975111</td>\n",
       "    </tr>\n",
       "  </tbody>\n",
       "</table>\n",
       "</div>"
      ],
      "text/plain": [
       "              antecedents       consequents  antecedent support  \\\n",
       "0      (UWMCShareholders)  (wallstreetbets)            0.000884   \n",
       "1      (Genshin_Memepact)  (Genshin_Impact)            0.002148   \n",
       "2                  (MVIS)  (wallstreetbets)            0.000884   \n",
       "3                  (SNDL)  (wallstreetbets)            0.001390   \n",
       "4     (wallstreetbetsOGs)  (wallstreetbets)            0.003159   \n",
       "5               (Vitards)  (wallstreetbets)            0.001011   \n",
       "6                (Advice)       (AskReddit)            0.002021   \n",
       "7        (PolskaPolityka)          (Polska)            0.000758   \n",
       "8                 (konfa)          (Polska)            0.000632   \n",
       "9                (poland)          (Polska)            0.001011   \n",
       "10               (stocks)  (wallstreetbets)            0.003538   \n",
       "11              (xboxone)          (gaming)            0.000758   \n",
       "12                (zelda)          (gaming)            0.000884   \n",
       "13                  (AMA)       (AskReddit)            0.001390   \n",
       "14  (WallStreetbetsELITE)  (wallstreetbets)            0.001516   \n",
       "15        (tipofmytongue)       (AskReddit)            0.000758   \n",
       "16                (polls)       (AskReddit)            0.001263   \n",
       "17                 (CLOV)  (wallstreetbets)            0.002401   \n",
       "18             (BB_Stock)  (wallstreetbets)            0.000632   \n",
       "19              (options)  (wallstreetbets)            0.001516   \n",
       "\n",
       "    consequent support   support  confidence       lift  leverage  conviction  \n",
       "0             0.170815  0.000632    0.714286   4.181636  0.000481    2.902148  \n",
       "1             0.031712  0.001516    0.705882  22.259199  0.001448    3.292179  \n",
       "2             0.170815  0.000632    0.714286   4.181636  0.000481    2.902148  \n",
       "3             0.170815  0.001011    0.727273   4.257665  0.000773    3.040345  \n",
       "4             0.170815  0.002274    0.720000   4.215089  0.001735    2.961375  \n",
       "5             0.170815  0.000758    0.750000   4.390717  0.000585    3.316740  \n",
       "6             0.261402  0.001642    0.812500   3.108235  0.001114    3.939187  \n",
       "7             0.022868  0.000758    1.000000  43.729282  0.000741         inf  \n",
       "8             0.022868  0.000505    0.800000  34.983425  0.000491    4.885660  \n",
       "9             0.022868  0.000884    0.875000  38.263122  0.000861    7.817056  \n",
       "10            0.170815  0.002527    0.714286   4.181636  0.001923    2.902148  \n",
       "11            0.033607  0.000632    0.833333  24.796366  0.000606    5.798358  \n",
       "12            0.033607  0.000632    0.714286  21.254028  0.000602    3.382375  \n",
       "13            0.261402  0.001137    0.818182   3.129971  0.000774    4.062287  \n",
       "14            0.170815  0.001137    0.750000   4.390717  0.000878    3.316740  \n",
       "15            0.261402  0.000632    0.833333   3.187933  0.000434    4.431586  \n",
       "16            0.261402  0.000884    0.700000   2.677864  0.000554    2.461992  \n",
       "17            0.170815  0.002401    1.000000   5.854290  0.001990         inf  \n",
       "18            0.170815  0.000632    1.000000   5.854290  0.000524         inf  \n",
       "19            0.170815  0.001263    0.833333   4.878575  0.001004    4.975111  "
      ]
     },
     "execution_count": 28,
     "metadata": {},
     "output_type": "execute_result"
    }
   ],
   "source": [
    "frequent_itemsets = apriori(df, min_support=0.0005, use_colnames=True)\n",
    "association_rules(frequent_itemsets, \n",
    "                  metric='confidence', \n",
    "                  min_threshold=0.5)"
   ]
  },
  {
   "cell_type": "code",
   "execution_count": null,
   "metadata": {},
   "outputs": [],
   "source": []
  }
 ],
 "metadata": {
  "kernelspec": {
   "display_name": "Python [conda env:dataviz]",
   "language": "python",
   "name": "conda-env-dataviz-py"
  },
  "language_info": {
   "codemirror_mode": {
    "name": "ipython",
    "version": 3
   },
   "file_extension": ".py",
   "mimetype": "text/x-python",
   "name": "python",
   "nbconvert_exporter": "python",
   "pygments_lexer": "ipython3",
   "version": "3.8.8"
  },
  "toc": {
   "base_numbering": 1,
   "nav_menu": {},
   "number_sections": true,
   "sideBar": true,
   "skip_h1_title": false,
   "title_cell": "Table of Contents",
   "title_sidebar": "Contents",
   "toc_cell": false,
   "toc_position": {},
   "toc_section_display": true,
   "toc_window_display": false
  }
 },
 "nbformat": 4,
 "nbformat_minor": 4
}
