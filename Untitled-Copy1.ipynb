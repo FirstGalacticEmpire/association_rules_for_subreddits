{
 "cells": [
  {
   "cell_type": "code",
   "execution_count": 49,
   "metadata": {
    "ExecuteTime": {
     "end_time": "2021-06-10T12:30:25.010350Z",
     "start_time": "2021-06-10T12:30:24.337141Z"
    }
   },
   "outputs": [],
   "source": [
    "import json\n",
    "import numpy as np\n",
    "import pandas as pd\n",
    "import plotly.express as px\n",
    "import mlxtend as mlx\n",
    "from tqdm.notebook import tqdm, trange\n",
    "from itertools import chain"
   ]
  },
  {
   "cell_type": "code",
   "execution_count": 50,
   "metadata": {
    "ExecuteTime": {
     "end_time": "2021-06-10T12:30:25.020792Z",
     "start_time": "2021-06-10T12:30:25.014099Z"
    }
   },
   "outputs": [],
   "source": [
    "def read_json(path):\n",
    "    file = open(path,'r+', encoding='utf-8')\n",
    "    data = {}\n",
    "    for line in file.readlines():\n",
    "        try: \n",
    "            dic = json.loads(line)\n",
    "            if dic['author'] in data.keys():\n",
    "                if dic['subreddit'] in data[dic['author']].keys():\n",
    "                    data[dic['author']][dic['subreddit']] +=1\n",
    "                else:\n",
    "                    data[dic['author']][dic['subreddit']] =1\n",
    "            else:\n",
    "                data[dic['author']] = {}\n",
    "                data[dic['author']][dic['subreddit']] = 1\n",
    "        except json.JSONDecodeError:\n",
    "            continue\n",
    "    return data"
   ]
  },
  {
   "cell_type": "code",
   "execution_count": 51,
   "metadata": {
    "ExecuteTime": {
     "end_time": "2021-06-10T12:30:25.028434Z",
     "start_time": "2021-06-10T12:30:25.024084Z"
    }
   },
   "outputs": [],
   "source": [
    "def jsonKeys2int(x):\n",
    "    if isinstance(x, dict):\n",
    "            return {int(k):v for k,v in x.items()}\n",
    "    return x"
   ]
  },
  {
   "cell_type": "code",
   "execution_count": 52,
   "metadata": {
    "ExecuteTime": {
     "end_time": "2021-06-10T12:30:25.119129Z",
     "start_time": "2021-06-10T12:30:25.031759Z"
    }
   },
   "outputs": [],
   "source": [
    "data = json.load(open('reddit_scrapper/data/scrapped_data2.json','r+'))\n",
    "subreddit_names_list = json.load(open('reddit_scrapper/data/list_of_unique_subreddits2.json','r+'))\n",
    "# subreddit_index = json.load(open('subreddit_index.json','r+'))\n",
    "# index_subreddit = json.load(open('index_subreddit.json','r+'),object_hook=jsonKeys2int)"
   ]
  },
  {
   "cell_type": "code",
   "execution_count": 53,
   "metadata": {
    "ExecuteTime": {
     "end_time": "2021-06-10T12:30:25.129971Z",
     "start_time": "2021-06-10T12:30:25.121626Z"
    }
   },
   "outputs": [],
   "source": [
    "subreddit_index = dict(zip(subreddit_names_list,range(len(subreddit_names_list))))\n",
    "index_subreddit =  dict(zip(range(len(subreddit_names_list)),subreddit_names_list))"
   ]
  },
  {
   "cell_type": "code",
   "execution_count": 54,
   "metadata": {
    "ExecuteTime": {
     "end_time": "2021-06-10T12:30:25.137945Z",
     "start_time": "2021-06-10T12:30:25.132962Z"
    }
   },
   "outputs": [],
   "source": [
    "def create_matrix(data,matrix_width,subreddit_index):\n",
    "    \"\"\" Creates matrix filled with zeros and iterates over it filling the cells based on \n",
    "        the subreddit-index dictionary\"\"\"\n",
    "    matrix = np.zeros(shape=(len(data),matrix_width))\n",
    "    for idx,redditor in enumerate(data.values()):\n",
    "        for key,value in redditor.items():\n",
    "            matrix[idx,subreddit_index[key]] = value\n",
    "    return matrix"
   ]
  },
  {
   "cell_type": "code",
   "execution_count": 55,
   "metadata": {
    "ExecuteTime": {
     "end_time": "2021-06-10T12:30:25.147903Z",
     "start_time": "2021-06-10T12:30:25.142920Z"
    }
   },
   "outputs": [],
   "source": [
    "def update_dictionaries(new_redditors,subreddit_index,index_subreddit,subreddit_names_list):\n",
    "    \"\"\" Updating index-subreddit,subreddit-index dictionaries and subreddit_names_list according to the\n",
    "        new_redditors- new incoming data\"\"\"\n",
    "    for redditor in new_redditors.values():\n",
    "        for i in redditor.keys():\n",
    "            if i not in subreddit_names_list:\n",
    "                subreddit_index[i] = len(subreddit_index)\n",
    "                index_subreddit[len(index_subreddit)] = i\n",
    "                subreddit_names_list.append(i)\n",
    "    return subreddit_index,index_subreddit,subreddit_names_list"
   ]
  },
  {
   "cell_type": "code",
   "execution_count": 56,
   "metadata": {
    "ExecuteTime": {
     "end_time": "2021-06-10T12:30:25.156564Z",
     "start_time": "2021-06-10T12:30:25.151918Z"
    }
   },
   "outputs": [],
   "source": [
    "def resize_matrix_width(matrix,subreddit_index):\n",
    "    \"\"\" Updating the width of the main matrix to match it with the incoming data\"\"\"\n",
    "    if matrix.shape[1] != len(subreddit_index):\n",
    "        extension = np.zeros((matrix.shape[0],len(subreddit_index)-matrix.shape[1]))\n",
    "        matrix = np.hstack((matrix, extension))\n",
    "    return matrix "
   ]
  },
  {
   "cell_type": "code",
   "execution_count": 57,
   "metadata": {
    "ExecuteTime": {
     "end_time": "2021-06-10T12:30:25.165192Z",
     "start_time": "2021-06-10T12:30:25.160026Z"
    }
   },
   "outputs": [],
   "source": [
    "def update(matrix,new_redditors,subreddit_index,index_subreddit,subreddit_names_list):\n",
    "    \"\"\"Function that manages new incoming data and combines it with the main matrix\"\"\"\n",
    "    subreddit_index,index_subreddit,subreddit_names_list = \\\n",
    "    update_dictionaries(new_redditors,subreddit_index,index_subreddit,subreddit_names_list)\n",
    "    matrix = resize_matrix_width(matrix,subreddit_index)\n",
    "    recent_data = create_matrix(new_redditors,matrix.shape[1],subreddit_index)\n",
    "    matrix = np.vstack((matrix, recent_data))\n",
    "    return matrix,subreddit_index,index_subreddit,subreddit_names_list"
   ]
  },
  {
   "cell_type": "markdown",
   "metadata": {},
   "source": [
    "### Create matrix"
   ]
  },
  {
   "cell_type": "markdown",
   "metadata": {},
   "source": [
    "Remove rows and columns where all cells contains integer less or equal to 5. E.g. when a redditor comments less than threshold (6) times in a given reddit we consider an inconsiderable input so we floor it to zero. If a given redditor has commented less than the threshold in all the reddits (0/False vector) we remove him from the data. Same applies to reddit sites."
   ]
  },
  {
   "cell_type": "code",
   "execution_count": 58,
   "metadata": {
    "ExecuteTime": {
     "end_time": "2021-06-10T12:30:25.413975Z",
     "start_time": "2021-06-10T12:30:25.167733Z"
    }
   },
   "outputs": [],
   "source": [
    "matrix = create_matrix(data,len(subreddit_names_list),subreddit_index)"
   ]
  },
  {
   "cell_type": "code",
   "execution_count": 59,
   "metadata": {
    "ExecuteTime": {
     "end_time": "2021-06-10T12:30:26.657251Z",
     "start_time": "2021-06-10T12:30:25.416585Z"
    }
   },
   "outputs": [],
   "source": [
    "mask = np.where(matrix>8,True,False)\n",
    "rows = ~np.all(mask==False,axis=1)\n",
    "columns = ~np.all(mask==False,axis=0)\n",
    "data = matrix[np.ix_(rows,columns)]\n",
    "df = pd.DataFrame(data,columns=np.squeeze(np.argwhere(columns)))\n",
    "df.rename(columns=index_subreddit,inplace=True)"
   ]
  },
  {
   "cell_type": "code",
   "execution_count": 60,
   "metadata": {},
   "outputs": [],
   "source": [
    "upper_limit = 1000 ##  Choose number of most popular reddits\n",
    "lower_limit = 20"
   ]
  },
  {
   "cell_type": "code",
   "execution_count": 61,
   "metadata": {},
   "outputs": [],
   "source": [
    "most_popular_reddits = df.sum(axis=0).sort_values(ascending=False)[lower_limit:upper_limit].index"
   ]
  },
  {
   "cell_type": "code",
   "execution_count": 62,
   "metadata": {
    "ExecuteTime": {
     "end_time": "2021-06-10T12:30:26.921461Z",
     "start_time": "2021-06-10T12:30:26.659515Z"
    }
   },
   "outputs": [],
   "source": [
    "df_bool = df.loc[:,most_popular_reddits].astype(bool).astype(int)\n",
    "#df_bool.drop(columns=[\"AskReddit\", \"wallstreetbets\", \"todayilearned\", \"Genshin_Memepact\"], inplace=True)"
   ]
  },
  {
   "cell_type": "code",
   "execution_count": 63,
   "metadata": {},
   "outputs": [
    {
     "data": {
      "text/html": [
       "<div>\n",
       "<style scoped>\n",
       "    .dataframe tbody tr th:only-of-type {\n",
       "        vertical-align: middle;\n",
       "    }\n",
       "\n",
       "    .dataframe tbody tr th {\n",
       "        vertical-align: top;\n",
       "    }\n",
       "\n",
       "    .dataframe thead th {\n",
       "        text-align: right;\n",
       "    }\n",
       "</style>\n",
       "<table border=\"1\" class=\"dataframe\">\n",
       "  <thead>\n",
       "    <tr style=\"text-align: right;\">\n",
       "      <th></th>\n",
       "      <th>soccer</th>\n",
       "      <th>AmItheAsshole</th>\n",
       "      <th>teenagers</th>\n",
       "      <th>aww</th>\n",
       "      <th>amcstock</th>\n",
       "      <th>movies</th>\n",
       "      <th>PSTH</th>\n",
       "      <th>nextfuckinglevel</th>\n",
       "      <th>Showerthoughts</th>\n",
       "      <th>mildlyinteresting</th>\n",
       "      <th>...</th>\n",
       "      <th>Reddit_Island</th>\n",
       "      <th>CODZombies</th>\n",
       "      <th>upvote</th>\n",
       "      <th>Meditation</th>\n",
       "      <th>disneyvacation</th>\n",
       "      <th>RealGirls</th>\n",
       "      <th>criterion</th>\n",
       "      <th>securityguards</th>\n",
       "      <th>grandrapids</th>\n",
       "      <th>HighStrangeness</th>\n",
       "    </tr>\n",
       "  </thead>\n",
       "  <tbody>\n",
       "    <tr>\n",
       "      <th>0</th>\n",
       "      <td>0</td>\n",
       "      <td>0</td>\n",
       "      <td>0</td>\n",
       "      <td>0</td>\n",
       "      <td>0</td>\n",
       "      <td>0</td>\n",
       "      <td>0</td>\n",
       "      <td>0</td>\n",
       "      <td>0</td>\n",
       "      <td>0</td>\n",
       "      <td>...</td>\n",
       "      <td>0</td>\n",
       "      <td>0</td>\n",
       "      <td>0</td>\n",
       "      <td>0</td>\n",
       "      <td>0</td>\n",
       "      <td>0</td>\n",
       "      <td>0</td>\n",
       "      <td>0</td>\n",
       "      <td>0</td>\n",
       "      <td>0</td>\n",
       "    </tr>\n",
       "    <tr>\n",
       "      <th>1</th>\n",
       "      <td>0</td>\n",
       "      <td>0</td>\n",
       "      <td>0</td>\n",
       "      <td>0</td>\n",
       "      <td>0</td>\n",
       "      <td>0</td>\n",
       "      <td>0</td>\n",
       "      <td>0</td>\n",
       "      <td>0</td>\n",
       "      <td>0</td>\n",
       "      <td>...</td>\n",
       "      <td>0</td>\n",
       "      <td>0</td>\n",
       "      <td>0</td>\n",
       "      <td>0</td>\n",
       "      <td>0</td>\n",
       "      <td>0</td>\n",
       "      <td>0</td>\n",
       "      <td>0</td>\n",
       "      <td>0</td>\n",
       "      <td>0</td>\n",
       "    </tr>\n",
       "    <tr>\n",
       "      <th>2</th>\n",
       "      <td>0</td>\n",
       "      <td>0</td>\n",
       "      <td>0</td>\n",
       "      <td>0</td>\n",
       "      <td>0</td>\n",
       "      <td>0</td>\n",
       "      <td>0</td>\n",
       "      <td>0</td>\n",
       "      <td>0</td>\n",
       "      <td>0</td>\n",
       "      <td>...</td>\n",
       "      <td>0</td>\n",
       "      <td>0</td>\n",
       "      <td>0</td>\n",
       "      <td>0</td>\n",
       "      <td>0</td>\n",
       "      <td>0</td>\n",
       "      <td>0</td>\n",
       "      <td>0</td>\n",
       "      <td>0</td>\n",
       "      <td>0</td>\n",
       "    </tr>\n",
       "    <tr>\n",
       "      <th>3</th>\n",
       "      <td>0</td>\n",
       "      <td>0</td>\n",
       "      <td>0</td>\n",
       "      <td>0</td>\n",
       "      <td>0</td>\n",
       "      <td>1</td>\n",
       "      <td>0</td>\n",
       "      <td>0</td>\n",
       "      <td>0</td>\n",
       "      <td>0</td>\n",
       "      <td>...</td>\n",
       "      <td>0</td>\n",
       "      <td>0</td>\n",
       "      <td>0</td>\n",
       "      <td>0</td>\n",
       "      <td>0</td>\n",
       "      <td>0</td>\n",
       "      <td>0</td>\n",
       "      <td>0</td>\n",
       "      <td>0</td>\n",
       "      <td>0</td>\n",
       "    </tr>\n",
       "    <tr>\n",
       "      <th>4</th>\n",
       "      <td>0</td>\n",
       "      <td>0</td>\n",
       "      <td>0</td>\n",
       "      <td>0</td>\n",
       "      <td>0</td>\n",
       "      <td>0</td>\n",
       "      <td>0</td>\n",
       "      <td>0</td>\n",
       "      <td>0</td>\n",
       "      <td>0</td>\n",
       "      <td>...</td>\n",
       "      <td>0</td>\n",
       "      <td>0</td>\n",
       "      <td>0</td>\n",
       "      <td>0</td>\n",
       "      <td>0</td>\n",
       "      <td>0</td>\n",
       "      <td>0</td>\n",
       "      <td>0</td>\n",
       "      <td>0</td>\n",
       "      <td>0</td>\n",
       "    </tr>\n",
       "    <tr>\n",
       "      <th>...</th>\n",
       "      <td>...</td>\n",
       "      <td>...</td>\n",
       "      <td>...</td>\n",
       "      <td>...</td>\n",
       "      <td>...</td>\n",
       "      <td>...</td>\n",
       "      <td>...</td>\n",
       "      <td>...</td>\n",
       "      <td>...</td>\n",
       "      <td>...</td>\n",
       "      <td>...</td>\n",
       "      <td>...</td>\n",
       "      <td>...</td>\n",
       "      <td>...</td>\n",
       "      <td>...</td>\n",
       "      <td>...</td>\n",
       "      <td>...</td>\n",
       "      <td>...</td>\n",
       "      <td>...</td>\n",
       "      <td>...</td>\n",
       "      <td>...</td>\n",
       "    </tr>\n",
       "    <tr>\n",
       "      <th>6755</th>\n",
       "      <td>0</td>\n",
       "      <td>0</td>\n",
       "      <td>0</td>\n",
       "      <td>0</td>\n",
       "      <td>0</td>\n",
       "      <td>0</td>\n",
       "      <td>0</td>\n",
       "      <td>0</td>\n",
       "      <td>0</td>\n",
       "      <td>0</td>\n",
       "      <td>...</td>\n",
       "      <td>0</td>\n",
       "      <td>0</td>\n",
       "      <td>0</td>\n",
       "      <td>0</td>\n",
       "      <td>0</td>\n",
       "      <td>0</td>\n",
       "      <td>0</td>\n",
       "      <td>0</td>\n",
       "      <td>0</td>\n",
       "      <td>0</td>\n",
       "    </tr>\n",
       "    <tr>\n",
       "      <th>6756</th>\n",
       "      <td>0</td>\n",
       "      <td>0</td>\n",
       "      <td>0</td>\n",
       "      <td>0</td>\n",
       "      <td>0</td>\n",
       "      <td>0</td>\n",
       "      <td>0</td>\n",
       "      <td>0</td>\n",
       "      <td>0</td>\n",
       "      <td>0</td>\n",
       "      <td>...</td>\n",
       "      <td>0</td>\n",
       "      <td>0</td>\n",
       "      <td>0</td>\n",
       "      <td>0</td>\n",
       "      <td>0</td>\n",
       "      <td>0</td>\n",
       "      <td>0</td>\n",
       "      <td>0</td>\n",
       "      <td>0</td>\n",
       "      <td>0</td>\n",
       "    </tr>\n",
       "    <tr>\n",
       "      <th>6757</th>\n",
       "      <td>0</td>\n",
       "      <td>0</td>\n",
       "      <td>0</td>\n",
       "      <td>0</td>\n",
       "      <td>0</td>\n",
       "      <td>0</td>\n",
       "      <td>0</td>\n",
       "      <td>0</td>\n",
       "      <td>0</td>\n",
       "      <td>0</td>\n",
       "      <td>...</td>\n",
       "      <td>0</td>\n",
       "      <td>0</td>\n",
       "      <td>0</td>\n",
       "      <td>0</td>\n",
       "      <td>0</td>\n",
       "      <td>0</td>\n",
       "      <td>0</td>\n",
       "      <td>0</td>\n",
       "      <td>0</td>\n",
       "      <td>0</td>\n",
       "    </tr>\n",
       "    <tr>\n",
       "      <th>6758</th>\n",
       "      <td>0</td>\n",
       "      <td>0</td>\n",
       "      <td>0</td>\n",
       "      <td>0</td>\n",
       "      <td>0</td>\n",
       "      <td>0</td>\n",
       "      <td>0</td>\n",
       "      <td>0</td>\n",
       "      <td>0</td>\n",
       "      <td>0</td>\n",
       "      <td>...</td>\n",
       "      <td>0</td>\n",
       "      <td>0</td>\n",
       "      <td>0</td>\n",
       "      <td>0</td>\n",
       "      <td>0</td>\n",
       "      <td>0</td>\n",
       "      <td>0</td>\n",
       "      <td>0</td>\n",
       "      <td>0</td>\n",
       "      <td>0</td>\n",
       "    </tr>\n",
       "    <tr>\n",
       "      <th>6759</th>\n",
       "      <td>0</td>\n",
       "      <td>0</td>\n",
       "      <td>0</td>\n",
       "      <td>0</td>\n",
       "      <td>0</td>\n",
       "      <td>0</td>\n",
       "      <td>0</td>\n",
       "      <td>0</td>\n",
       "      <td>0</td>\n",
       "      <td>0</td>\n",
       "      <td>...</td>\n",
       "      <td>0</td>\n",
       "      <td>0</td>\n",
       "      <td>0</td>\n",
       "      <td>0</td>\n",
       "      <td>0</td>\n",
       "      <td>0</td>\n",
       "      <td>0</td>\n",
       "      <td>0</td>\n",
       "      <td>0</td>\n",
       "      <td>0</td>\n",
       "    </tr>\n",
       "  </tbody>\n",
       "</table>\n",
       "<p>6760 rows × 980 columns</p>\n",
       "</div>"
      ],
      "text/plain": [
       "      soccer  AmItheAsshole  teenagers  aww  amcstock  movies  PSTH  \\\n",
       "0          0              0          0    0         0       0     0   \n",
       "1          0              0          0    0         0       0     0   \n",
       "2          0              0          0    0         0       0     0   \n",
       "3          0              0          0    0         0       1     0   \n",
       "4          0              0          0    0         0       0     0   \n",
       "...      ...            ...        ...  ...       ...     ...   ...   \n",
       "6755       0              0          0    0         0       0     0   \n",
       "6756       0              0          0    0         0       0     0   \n",
       "6757       0              0          0    0         0       0     0   \n",
       "6758       0              0          0    0         0       0     0   \n",
       "6759       0              0          0    0         0       0     0   \n",
       "\n",
       "      nextfuckinglevel  Showerthoughts  mildlyinteresting  ...  Reddit_Island  \\\n",
       "0                    0               0                  0  ...              0   \n",
       "1                    0               0                  0  ...              0   \n",
       "2                    0               0                  0  ...              0   \n",
       "3                    0               0                  0  ...              0   \n",
       "4                    0               0                  0  ...              0   \n",
       "...                ...             ...                ...  ...            ...   \n",
       "6755                 0               0                  0  ...              0   \n",
       "6756                 0               0                  0  ...              0   \n",
       "6757                 0               0                  0  ...              0   \n",
       "6758                 0               0                  0  ...              0   \n",
       "6759                 0               0                  0  ...              0   \n",
       "\n",
       "      CODZombies  upvote  Meditation  disneyvacation  RealGirls  criterion  \\\n",
       "0              0       0           0               0          0          0   \n",
       "1              0       0           0               0          0          0   \n",
       "2              0       0           0               0          0          0   \n",
       "3              0       0           0               0          0          0   \n",
       "4              0       0           0               0          0          0   \n",
       "...          ...     ...         ...             ...        ...        ...   \n",
       "6755           0       0           0               0          0          0   \n",
       "6756           0       0           0               0          0          0   \n",
       "6757           0       0           0               0          0          0   \n",
       "6758           0       0           0               0          0          0   \n",
       "6759           0       0           0               0          0          0   \n",
       "\n",
       "      securityguards  grandrapids  HighStrangeness  \n",
       "0                  0            0                0  \n",
       "1                  0            0                0  \n",
       "2                  0            0                0  \n",
       "3                  0            0                0  \n",
       "4                  0            0                0  \n",
       "...              ...          ...              ...  \n",
       "6755               0            0                0  \n",
       "6756               0            0                0  \n",
       "6757               0            0                0  \n",
       "6758               0            0                0  \n",
       "6759               0            0                0  \n",
       "\n",
       "[6760 rows x 980 columns]"
      ]
     },
     "execution_count": 63,
     "metadata": {},
     "output_type": "execute_result"
    }
   ],
   "source": [
    "df_bool"
   ]
  },
  {
   "cell_type": "code",
   "execution_count": 64,
   "metadata": {
    "ExecuteTime": {
     "end_time": "2021-06-10T12:38:39.333179Z",
     "start_time": "2021-06-10T12:30:24.652Z"
    }
   },
   "outputs": [],
   "source": [
    "from mlxtend.preprocessing import TransactionEncoder\n",
    "from mlxtend.frequent_patterns import apriori\n",
    "from mlxtend.frequent_patterns import association_rules"
   ]
  },
  {
   "cell_type": "code",
   "execution_count": 1,
   "metadata": {
    "ExecuteTime": {
     "end_time": "2021-06-10T12:38:39.335750Z",
     "start_time": "2021-06-10T12:30:24.662Z"
    }
   },
   "outputs": [
    {
     "ename": "NameError",
     "evalue": "name 'apriori' is not defined",
     "output_type": "error",
     "traceback": [
      "\u001b[0;31m---------------------------------------------------------------------------\u001b[0m",
      "\u001b[0;31mNameError\u001b[0m                                 Traceback (most recent call last)",
      "\u001b[0;32m<ipython-input-1-58a86738cd43>\u001b[0m in \u001b[0;36m<module>\u001b[0;34m\u001b[0m\n\u001b[0;32m----> 1\u001b[0;31m \u001b[0mfrequent_itemsets\u001b[0m \u001b[0;34m=\u001b[0m \u001b[0mapriori\u001b[0m\u001b[0;34m(\u001b[0m\u001b[0mdf_bool\u001b[0m\u001b[0;34m,\u001b[0m \u001b[0mmin_support\u001b[0m\u001b[0;34m=\u001b[0m\u001b[0;36m0.003\u001b[0m\u001b[0;34m,\u001b[0m \u001b[0muse_colnames\u001b[0m\u001b[0;34m=\u001b[0m\u001b[0;32mTrue\u001b[0m\u001b[0;34m)\u001b[0m\u001b[0;34m\u001b[0m\u001b[0;34m\u001b[0m\u001b[0m\n\u001b[0m\u001b[1;32m      2\u001b[0m rules = association_rules(frequent_itemsets, \n\u001b[1;32m      3\u001b[0m                   \u001b[0mmetric\u001b[0m\u001b[0;34m=\u001b[0m\u001b[0;34m'confidence'\u001b[0m\u001b[0;34m,\u001b[0m\u001b[0;34m\u001b[0m\u001b[0;34m\u001b[0m\u001b[0m\n\u001b[1;32m      4\u001b[0m                   min_threshold=0.1)\n",
      "\u001b[0;31mNameError\u001b[0m: name 'apriori' is not defined"
     ]
    }
   ],
   "source": [
    "frequent_itemsets = apriori(df_bool, min_support=0.003, use_colnames=True)\n",
    "rules = association_rules(frequent_itemsets, \n",
    "                  metric='confidence', \n",
    "                  min_threshold=0.1)"
   ]
  },
  {
   "cell_type": "code",
   "execution_count": null,
   "metadata": {
    "scrolled": false
   },
   "outputs": [],
   "source": [
    "rules"
   ]
  },
  {
   "cell_type": "code",
   "execution_count": 19,
   "metadata": {
    "ExecuteTime": {
     "end_time": "2021-06-10T12:38:39.338293Z",
     "start_time": "2021-06-10T12:30:24.667Z"
    }
   },
   "outputs": [],
   "source": [
    "rules.to_json(\"data/arules.json\")"
   ]
  },
  {
   "cell_type": "code",
   "execution_count": 20,
   "metadata": {},
   "outputs": [
    {
     "data": {
      "text/plain": [
       "(5938, 1754)"
      ]
     },
     "execution_count": 20,
     "metadata": {},
     "output_type": "execute_result"
    }
   ],
   "source": [
    "df.shape"
   ]
  },
  {
   "cell_type": "code",
   "execution_count": null,
   "metadata": {},
   "outputs": [],
   "source": []
  }
 ],
 "metadata": {
  "kernelspec": {
   "display_name": "Python [conda env:dataviz]",
   "language": "python",
   "name": "conda-env-dataviz-py"
  },
  "language_info": {
   "codemirror_mode": {
    "name": "ipython",
    "version": 3
   },
   "file_extension": ".py",
   "mimetype": "text/x-python",
   "name": "python",
   "nbconvert_exporter": "python",
   "pygments_lexer": "ipython3",
   "version": "3.8.8"
  },
  "toc": {
   "base_numbering": 1,
   "nav_menu": {},
   "number_sections": true,
   "sideBar": true,
   "skip_h1_title": false,
   "title_cell": "Table of Contents",
   "title_sidebar": "Contents",
   "toc_cell": false,
   "toc_position": {},
   "toc_section_display": true,
   "toc_window_display": false
  }
 },
 "nbformat": 4,
 "nbformat_minor": 4
}
