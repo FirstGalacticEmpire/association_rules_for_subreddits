{
 "cells": [
  {
   "cell_type": "code",
   "execution_count": 6,
   "metadata": {
    "ExecuteTime": {
     "end_time": "2021-05-03T13:22:17.303391Z",
     "start_time": "2021-05-03T13:22:16.679186Z"
    }
   },
   "outputs": [],
   "source": [
    "import json\n",
    "import numpy as np\n",
    "import pandas as pd\n",
    "import plotly.express as px"
   ]
  },
  {
   "cell_type": "code",
   "execution_count": 3,
   "metadata": {
    "ExecuteTime": {
     "end_time": "2021-05-03T13:21:54.770722Z",
     "start_time": "2021-05-03T13:21:54.766849Z"
    }
   },
   "outputs": [],
   "source": [
    "file = open('data/RC_2009-10','r+', encoding='utf-8')"
   ]
  },
  {
   "cell_type": "code",
   "execution_count": 4,
   "metadata": {
    "ExecuteTime": {
     "end_time": "2021-05-03T13:22:12.316848Z",
     "start_time": "2021-05-03T13:21:55.006263Z"
    }
   },
   "outputs": [],
   "source": [
    "data = {}\n",
    "for line in file.readlines():\n",
    "    try: \n",
    "        dic = json.loads(line)\n",
    "        if dic['author'] in data.keys():\n",
    "            if dic['subreddit'] in data[dic['author']].keys():\n",
    "                data[dic['author']][dic['subreddit']] +=1\n",
    "            else:\n",
    "                data[dic['author']][dic['subreddit']] =1\n",
    "        else:\n",
    "            data[dic['author']] = {}\n",
    "            data[dic['author']][dic['subreddit']] = 1\n",
    "    except json.JSONDecodeError:\n",
    "        continue"
   ]
  },
  {
   "cell_type": "code",
   "execution_count": 7,
   "metadata": {
    "ExecuteTime": {
     "end_time": "2021-05-03T13:22:39.574661Z",
     "start_time": "2021-05-03T13:22:19.466808Z"
    }
   },
   "outputs": [],
   "source": [
    "df = pd.DataFrame(data)\n",
    "df.fillna(0, inplace = True)"
   ]
  },
  {
   "cell_type": "code",
   "execution_count": 8,
   "metadata": {
    "ExecuteTime": {
     "end_time": "2021-05-03T13:22:41.364734Z",
     "start_time": "2021-05-03T13:22:41.351051Z"
    }
   },
   "outputs": [],
   "source": [
    "df = df.T"
   ]
  },
  {
   "cell_type": "code",
   "execution_count": null,
   "metadata": {},
   "outputs": [],
   "source": []
  }
 ],
 "metadata": {
  "kernelspec": {
   "display_name": "Python 3",
   "language": "python",
   "name": "python3"
  },
  "language_info": {
   "codemirror_mode": {
    "name": "ipython",
    "version": 3
   },
   "file_extension": ".py",
   "mimetype": "text/x-python",
   "name": "python",
   "nbconvert_exporter": "python",
   "pygments_lexer": "ipython3",
   "version": "3.8.5"
  },
  "toc": {
   "base_numbering": 1,
   "nav_menu": {},
   "number_sections": true,
   "sideBar": true,
   "skip_h1_title": false,
   "title_cell": "Table of Contents",
   "title_sidebar": "Contents",
   "toc_cell": false,
   "toc_position": {},
   "toc_section_display": true,
   "toc_window_display": false
  }
 },
 "nbformat": 4,
 "nbformat_minor": 4
}
