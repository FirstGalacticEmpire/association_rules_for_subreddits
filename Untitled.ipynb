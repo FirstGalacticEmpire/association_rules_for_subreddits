{
 "cells": [
  {
   "cell_type": "code",
   "execution_count": 1,
   "metadata": {
    "ExecuteTime": {
     "end_time": "2021-05-06T19:45:45.866852Z",
     "start_time": "2021-05-06T19:45:45.552102Z"
    }
   },
   "outputs": [],
   "source": [
    "import json\n",
    "import numpy as np\n",
    "import pandas as pd\n",
    "import plotly.express as px\n",
    "import mlxtend as mlx\n",
    "from tqdm.notebook import tqdm, trange\n",
    "from itertools import chain"
   ]
  },
  {
   "cell_type": "code",
   "execution_count": 2,
   "metadata": {
    "ExecuteTime": {
     "end_time": "2021-05-06T19:45:45.871596Z",
     "start_time": "2021-05-06T19:45:45.868231Z"
    }
   },
   "outputs": [],
   "source": [
    "def read_json(path):\n",
    "    file = open(path,'r+', encoding='utf-8')\n",
    "    data = {}\n",
    "    for line in file.readlines():\n",
    "        try: \n",
    "            dic = json.loads(line)\n",
    "            if dic['author'] in data.keys():\n",
    "                if dic['subreddit'] in data[dic['author']].keys():\n",
    "                    data[dic['author']][dic['subreddit']] +=1\n",
    "                else:\n",
    "                    data[dic['author']][dic['subreddit']] =1\n",
    "            else:\n",
    "                data[dic['author']] = {}\n",
    "                data[dic['author']][dic['subreddit']] = 1\n",
    "        except json.JSONDecodeError:\n",
    "            continue\n",
    "    return data"
   ]
  },
  {
   "cell_type": "code",
   "execution_count": 3,
   "metadata": {
    "ExecuteTime": {
     "end_time": "2021-05-06T19:45:45.874887Z",
     "start_time": "2021-05-06T19:45:45.873006Z"
    }
   },
   "outputs": [],
   "source": [
    "# data = read_json('data/RC_2009-10')"
   ]
  },
  {
   "cell_type": "code",
   "execution_count": 4,
   "metadata": {
    "ExecuteTime": {
     "end_time": "2021-05-06T19:45:45.878113Z",
     "start_time": "2021-05-06T19:45:45.875956Z"
    }
   },
   "outputs": [],
   "source": [
    "def jsonKeys2int(x):\n",
    "    if isinstance(x, dict):\n",
    "            return {int(k):v for k,v in x.items()}\n",
    "    return x"
   ]
  },
  {
   "cell_type": "code",
   "execution_count": 5,
   "metadata": {
    "ExecuteTime": {
     "end_time": "2021-05-06T19:45:45.983565Z",
     "start_time": "2021-05-06T19:45:45.879200Z"
    }
   },
   "outputs": [],
   "source": [
    "data = json.load(open('data.json','r+'))\n",
    "subreddit_names_list = json.load(open('subreddits_names.json','r+'))\n",
    "subreddit_index = json.load(open('subreddit_index.json','r+'))\n",
    "index_subreddit = json.load(open('index_subreddit.json','r+'),object_hook=jsonKeys2int)"
   ]
  },
  {
   "cell_type": "code",
   "execution_count": 6,
   "metadata": {
    "ExecuteTime": {
     "end_time": "2021-05-06T19:45:45.987352Z",
     "start_time": "2021-05-06T19:45:45.984671Z"
    }
   },
   "outputs": [],
   "source": [
    "def create_matrix(data,matrix_width,subreddit_index):\n",
    "    \"\"\" Creates matrix filled with zeros and iterates over it filling the cells based on \n",
    "        the subreddit-index dictionary\"\"\"\n",
    "    matrix = np.zeros(shape=(len(data),matrix_width))\n",
    "    for idx,redditor in enumerate(data.values()):\n",
    "        for key,value in redditor.items():\n",
    "            matrix[idx,subreddit_index[key]] = value\n",
    "    return matrix"
   ]
  },
  {
   "cell_type": "code",
   "execution_count": 7,
   "metadata": {
    "ExecuteTime": {
     "end_time": "2021-05-06T19:45:45.991824Z",
     "start_time": "2021-05-06T19:45:45.988957Z"
    }
   },
   "outputs": [],
   "source": [
    "def update_dictionaries(new_redditors,subreddit_index,index_subreddit,subreddit_names_list):\n",
    "    \"\"\" Updating index-subreddit,subreddit-index dictionaries and subreddit_names_list according to the\n",
    "        new_redditors- new incoming data\"\"\"\n",
    "    for redditor in new_redditors.values():\n",
    "        for i in redditor.keys():\n",
    "            if i not in subreddit_names_list:\n",
    "                subreddit_index[i] = len(subreddit_index)\n",
    "                index_subreddit[len(index_subreddit)] = i\n",
    "                subreddit_names_list.append(i)\n",
    "    return subreddit_index,index_subreddit,subreddit_names_list"
   ]
  },
  {
   "cell_type": "code",
   "execution_count": 8,
   "metadata": {
    "ExecuteTime": {
     "end_time": "2021-05-06T19:45:45.996032Z",
     "start_time": "2021-05-06T19:45:45.993346Z"
    }
   },
   "outputs": [],
   "source": [
    "def resize_matrix_width(matrix,subreddit_index):\n",
    "    \"\"\" Updating the width of the main matrix to match it with the incoming data\"\"\"\n",
    "    if matrix.shape[1] != len(subreddit_index):\n",
    "        extension = np.zeros((matrix.shape[0],len(subreddit_index)-matrix.shape[1]))\n",
    "        matrix = np.hstack((matrix, extension))\n",
    "    return matrix "
   ]
  },
  {
   "cell_type": "code",
   "execution_count": 9,
   "metadata": {
    "ExecuteTime": {
     "end_time": "2021-05-06T19:45:45.999820Z",
     "start_time": "2021-05-06T19:45:45.997251Z"
    }
   },
   "outputs": [],
   "source": [
    "def update(matrix,new_redditors,subreddit_index,index_subreddit,subreddit_names_list):\n",
    "    \"\"\"Function that manages new incoming data and combines it with the main matrix\"\"\"\n",
    "    subreddit_index,index_subreddit,subreddit_names_list = \\\n",
    "    update_dictionaries(new_redditors,subreddit_index,index_subreddit,subreddit_names_list)\n",
    "    matrix = resize_matrix_width(matrix,subreddit_index)\n",
    "    recent_data = create_matrix(new_redditors,matrix.shape[1],subreddit_index)\n",
    "    matrix = np.vstack((matrix, recent_data))\n",
    "    return matrix,subreddit_index,index_subreddit,subreddit_names_list"
   ]
  },
  {
   "cell_type": "code",
   "execution_count": 10,
   "metadata": {
    "ExecuteTime": {
     "end_time": "2021-05-06T19:45:46.217379Z",
     "start_time": "2021-05-06T19:45:46.001034Z"
    }
   },
   "outputs": [],
   "source": [
    "matrix = create_matrix(data,len(subreddit_names_list),subreddit_index)"
   ]
  },
  {
   "cell_type": "code",
   "execution_count": 11,
   "metadata": {
    "ExecuteTime": {
     "end_time": "2021-05-06T19:45:46.219905Z",
     "start_time": "2021-05-06T19:45:46.218431Z"
    }
   },
   "outputs": [],
   "source": [
    "# matrix,subreddit_index,index_subreddit,subreddit_names_list = update(matrix,new_redditors,subreddit_index,index_subreddit,subreddit_names_list)"
   ]
  },
  {
   "cell_type": "code",
   "execution_count": 12,
   "metadata": {
    "ExecuteTime": {
     "end_time": "2021-05-06T19:45:46.707902Z",
     "start_time": "2021-05-06T19:45:46.221341Z"
    }
   },
   "outputs": [],
   "source": [
    "matrix = np.where(matrix>5,True,False)\n",
    "matrix = matrix[~np.all(matrix == False, axis=1), :]\n",
    "df = pd.DataFrame(matrix)\n",
    "df.rename(columns=index_subreddit,inplace=True)"
   ]
  },
  {
   "cell_type": "code",
   "execution_count": 13,
   "metadata": {
    "ExecuteTime": {
     "end_time": "2021-05-06T19:45:46.960757Z",
     "start_time": "2021-05-06T19:45:46.709082Z"
    }
   },
   "outputs": [],
   "source": [
    "from mlxtend.preprocessing import TransactionEncoder\n",
    "from mlxtend.frequent_patterns import apriori\n",
    "from mlxtend.frequent_patterns import association_rules"
   ]
  },
  {
   "cell_type": "code",
   "execution_count": 14,
   "metadata": {
    "ExecuteTime": {
     "end_time": "2021-05-06T19:45:48.169037Z",
     "start_time": "2021-05-06T19:45:46.962007Z"
    }
   },
   "outputs": [
    {
     "data": {
      "text/html": [
       "<div>\n",
       "<style scoped>\n",
       "    .dataframe tbody tr th:only-of-type {\n",
       "        vertical-align: middle;\n",
       "    }\n",
       "\n",
       "    .dataframe tbody tr th {\n",
       "        vertical-align: top;\n",
       "    }\n",
       "\n",
       "    .dataframe thead th {\n",
       "        text-align: right;\n",
       "    }\n",
       "</style>\n",
       "<table border=\"1\" class=\"dataframe\">\n",
       "  <thead>\n",
       "    <tr style=\"text-align: right;\">\n",
       "      <th></th>\n",
       "      <th>antecedents</th>\n",
       "      <th>consequents</th>\n",
       "      <th>antecedent support</th>\n",
       "      <th>consequent support</th>\n",
       "      <th>support</th>\n",
       "      <th>confidence</th>\n",
       "      <th>lift</th>\n",
       "      <th>leverage</th>\n",
       "      <th>conviction</th>\n",
       "    </tr>\n",
       "  </thead>\n",
       "  <tbody>\n",
       "    <tr>\n",
       "      <th>0</th>\n",
       "      <td>(self)</td>\n",
       "      <td>(AskReddit)</td>\n",
       "      <td>0.015186</td>\n",
       "      <td>0.480390</td>\n",
       "      <td>0.011720</td>\n",
       "      <td>0.771772</td>\n",
       "      <td>1.606551</td>\n",
       "      <td>0.004425</td>\n",
       "      <td>2.276711</td>\n",
       "    </tr>\n",
       "    <tr>\n",
       "      <th>1</th>\n",
       "      <td>(todayilearned)</td>\n",
       "      <td>(AskReddit)</td>\n",
       "      <td>0.013818</td>\n",
       "      <td>0.480390</td>\n",
       "      <td>0.010489</td>\n",
       "      <td>0.759076</td>\n",
       "      <td>1.580123</td>\n",
       "      <td>0.003851</td>\n",
       "      <td>2.156736</td>\n",
       "    </tr>\n",
       "    <tr>\n",
       "      <th>2</th>\n",
       "      <td>(DoesAnybodyElse)</td>\n",
       "      <td>(AskReddit)</td>\n",
       "      <td>0.046242</td>\n",
       "      <td>0.480390</td>\n",
       "      <td>0.034476</td>\n",
       "      <td>0.745562</td>\n",
       "      <td>1.551992</td>\n",
       "      <td>0.012262</td>\n",
       "      <td>2.042187</td>\n",
       "    </tr>\n",
       "    <tr>\n",
       "      <th>3</th>\n",
       "      <td>(entertainment)</td>\n",
       "      <td>(reddit.com)</td>\n",
       "      <td>0.015232</td>\n",
       "      <td>0.287121</td>\n",
       "      <td>0.010762</td>\n",
       "      <td>0.706587</td>\n",
       "      <td>2.460933</td>\n",
       "      <td>0.006389</td>\n",
       "      <td>2.429606</td>\n",
       "    </tr>\n",
       "    <tr>\n",
       "      <th>4</th>\n",
       "      <td>(offbeat)</td>\n",
       "      <td>(reddit.com)</td>\n",
       "      <td>0.015460</td>\n",
       "      <td>0.287121</td>\n",
       "      <td>0.011264</td>\n",
       "      <td>0.728614</td>\n",
       "      <td>2.537649</td>\n",
       "      <td>0.006825</td>\n",
       "      <td>2.626802</td>\n",
       "    </tr>\n",
       "    <tr>\n",
       "      <th>...</th>\n",
       "      <td>...</td>\n",
       "      <td>...</td>\n",
       "      <td>...</td>\n",
       "      <td>...</td>\n",
       "      <td>...</td>\n",
       "      <td>...</td>\n",
       "      <td>...</td>\n",
       "      <td>...</td>\n",
       "      <td>...</td>\n",
       "    </tr>\n",
       "    <tr>\n",
       "      <th>406</th>\n",
       "      <td>(reddit.com, funny, politics, science)</td>\n",
       "      <td>(pics, WTF)</td>\n",
       "      <td>0.013088</td>\n",
       "      <td>0.066627</td>\n",
       "      <td>0.010078</td>\n",
       "      <td>0.770035</td>\n",
       "      <td>11.557374</td>\n",
       "      <td>0.009206</td>\n",
       "      <td>4.058758</td>\n",
       "    </tr>\n",
       "    <tr>\n",
       "      <th>407</th>\n",
       "      <td>(pics, science, politics, WTF)</td>\n",
       "      <td>(reddit.com, funny)</td>\n",
       "      <td>0.014274</td>\n",
       "      <td>0.054633</td>\n",
       "      <td>0.010078</td>\n",
       "      <td>0.706070</td>\n",
       "      <td>12.923797</td>\n",
       "      <td>0.009299</td>\n",
       "      <td>3.216302</td>\n",
       "    </tr>\n",
       "    <tr>\n",
       "      <th>408</th>\n",
       "      <td>(funny, pics, science, politics)</td>\n",
       "      <td>(reddit.com, WTF)</td>\n",
       "      <td>0.012222</td>\n",
       "      <td>0.085462</td>\n",
       "      <td>0.010078</td>\n",
       "      <td>0.824627</td>\n",
       "      <td>9.649102</td>\n",
       "      <td>0.009034</td>\n",
       "      <td>5.214815</td>\n",
       "    </tr>\n",
       "    <tr>\n",
       "      <th>409</th>\n",
       "      <td>(funny, science, politics, WTF)</td>\n",
       "      <td>(reddit.com, pics)</td>\n",
       "      <td>0.011583</td>\n",
       "      <td>0.091800</td>\n",
       "      <td>0.010078</td>\n",
       "      <td>0.870079</td>\n",
       "      <td>9.477937</td>\n",
       "      <td>0.009015</td>\n",
       "      <td>6.990385</td>\n",
       "    </tr>\n",
       "    <tr>\n",
       "      <th>410</th>\n",
       "      <td>(funny, science, politics)</td>\n",
       "      <td>(reddit.com, pics, WTF)</td>\n",
       "      <td>0.013955</td>\n",
       "      <td>0.052900</td>\n",
       "      <td>0.010078</td>\n",
       "      <td>0.722222</td>\n",
       "      <td>13.652490</td>\n",
       "      <td>0.009340</td>\n",
       "      <td>3.409559</td>\n",
       "    </tr>\n",
       "  </tbody>\n",
       "</table>\n",
       "<p>411 rows × 9 columns</p>\n",
       "</div>"
      ],
      "text/plain": [
       "                                antecedents              consequents  \\\n",
       "0                                    (self)              (AskReddit)   \n",
       "1                           (todayilearned)              (AskReddit)   \n",
       "2                         (DoesAnybodyElse)              (AskReddit)   \n",
       "3                           (entertainment)             (reddit.com)   \n",
       "4                                 (offbeat)             (reddit.com)   \n",
       "..                                      ...                      ...   \n",
       "406  (reddit.com, funny, politics, science)              (pics, WTF)   \n",
       "407          (pics, science, politics, WTF)      (reddit.com, funny)   \n",
       "408        (funny, pics, science, politics)        (reddit.com, WTF)   \n",
       "409         (funny, science, politics, WTF)       (reddit.com, pics)   \n",
       "410              (funny, science, politics)  (reddit.com, pics, WTF)   \n",
       "\n",
       "     antecedent support  consequent support   support  confidence       lift  \\\n",
       "0              0.015186            0.480390  0.011720    0.771772   1.606551   \n",
       "1              0.013818            0.480390  0.010489    0.759076   1.580123   \n",
       "2              0.046242            0.480390  0.034476    0.745562   1.551992   \n",
       "3              0.015232            0.287121  0.010762    0.706587   2.460933   \n",
       "4              0.015460            0.287121  0.011264    0.728614   2.537649   \n",
       "..                  ...                 ...       ...         ...        ...   \n",
       "406            0.013088            0.066627  0.010078    0.770035  11.557374   \n",
       "407            0.014274            0.054633  0.010078    0.706070  12.923797   \n",
       "408            0.012222            0.085462  0.010078    0.824627   9.649102   \n",
       "409            0.011583            0.091800  0.010078    0.870079   9.477937   \n",
       "410            0.013955            0.052900  0.010078    0.722222  13.652490   \n",
       "\n",
       "     leverage  conviction  \n",
       "0    0.004425    2.276711  \n",
       "1    0.003851    2.156736  \n",
       "2    0.012262    2.042187  \n",
       "3    0.006389    2.429606  \n",
       "4    0.006825    2.626802  \n",
       "..        ...         ...  \n",
       "406  0.009206    4.058758  \n",
       "407  0.009299    3.216302  \n",
       "408  0.009034    5.214815  \n",
       "409  0.009015    6.990385  \n",
       "410  0.009340    3.409559  \n",
       "\n",
       "[411 rows x 9 columns]"
      ]
     },
     "execution_count": 14,
     "metadata": {},
     "output_type": "execute_result"
    }
   ],
   "source": [
    "frequent_itemsets = apriori(df, min_support=0.01, use_colnames=True)\n",
    "association_rules(frequent_itemsets, \n",
    "                  metric='confidence', \n",
    "                  min_threshold=0.7)"
   ]
  },
  {
   "cell_type": "code",
   "execution_count": null,
   "metadata": {},
   "outputs": [],
   "source": []
  }
 ],
 "metadata": {
  "kernelspec": {
   "display_name": "Python 3",
   "language": "python",
   "name": "python3"
  },
  "language_info": {
   "codemirror_mode": {
    "name": "ipython",
    "version": 3
   },
   "file_extension": ".py",
   "mimetype": "text/x-python",
   "name": "python",
   "nbconvert_exporter": "python",
   "pygments_lexer": "ipython3",
   "version": "3.8.5"
  },
  "toc": {
   "base_numbering": 1,
   "nav_menu": {},
   "number_sections": true,
   "sideBar": true,
   "skip_h1_title": false,
   "title_cell": "Table of Contents",
   "title_sidebar": "Contents",
   "toc_cell": false,
   "toc_position": {},
   "toc_section_display": true,
   "toc_window_display": false
  }
 },
 "nbformat": 4,
 "nbformat_minor": 4
}
