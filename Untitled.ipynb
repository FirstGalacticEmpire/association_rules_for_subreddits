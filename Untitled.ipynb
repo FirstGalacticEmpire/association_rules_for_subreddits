{
 "cells": [
  {
   "cell_type": "code",
   "execution_count": 6,
   "metadata": {
    "ExecuteTime": {
     "end_time": "2021-05-03T13:22:17.303391Z",
     "start_time": "2021-05-03T13:22:16.679186Z"
    }
   },
   "outputs": [],
   "source": [
    "import json\n",
    "import numpy as np\n",
    "import pandas as pd\n",
    "import plotly.express as px"
   ]
  },
  {
   "cell_type": "code",
   "execution_count": 37,
   "metadata": {
    "ExecuteTime": {
     "end_time": "2021-05-03T13:30:24.938106Z",
     "start_time": "2021-05-03T13:30:24.928771Z"
    }
   },
   "outputs": [],
   "source": [
    "def read_json(path):\n",
    "    file = open('data/RC_2009-10','r+', encoding='utf-8')\n",
    "    data = {}\n",
    "    for line in file.readlines():\n",
    "        try: \n",
    "            dic = json.loads(line)\n",
    "            if dic['author'] in data.keys():\n",
    "                if dic['subreddit'] in data[dic['author']].keys():\n",
    "                    data[dic['author']][dic['subreddit']] +=1\n",
    "                else:\n",
    "                    data[dic['author']][dic['subreddit']] =1\n",
    "            else:\n",
    "                data[dic['author']] = {}\n",
    "                data[dic['author']][dic['subreddit']] = 1\n",
    "        except json.JSONDecodeError:\n",
    "            continue\n",
    "    return data"
   ]
  },
  {
   "cell_type": "code",
   "execution_count": 7,
   "metadata": {
    "ExecuteTime": {
     "end_time": "2021-05-03T13:22:39.574661Z",
     "start_time": "2021-05-03T13:22:19.466808Z"
    }
   },
   "outputs": [],
   "source": [
    "df = pd.DataFrame(data)\n",
    "df.fillna(0, inplace = True)\n",
    "df = df.T\n",
    "threshold = 5\n",
    "df = df.mask(df <threshold,0)\n",
    "df = df[(df.T != 0).any()]"
   ]
  }
 ],
 "metadata": {
  "kernelspec": {
   "display_name": "Python 3",
   "language": "python",
   "name": "python3"
  },
  "language_info": {
   "codemirror_mode": {
    "name": "ipython",
    "version": 3
   },
   "file_extension": ".py",
   "mimetype": "text/x-python",
   "name": "python",
   "nbconvert_exporter": "python",
   "pygments_lexer": "ipython3",
   "version": "3.8.5"
  },
  "toc": {
   "base_numbering": 1,
   "nav_menu": {},
   "number_sections": true,
   "sideBar": true,
   "skip_h1_title": false,
   "title_cell": "Table of Contents",
   "title_sidebar": "Contents",
   "toc_cell": false,
   "toc_position": {},
   "toc_section_display": true,
   "toc_window_display": false
  }
 },
 "nbformat": 4,
 "nbformat_minor": 4
}
