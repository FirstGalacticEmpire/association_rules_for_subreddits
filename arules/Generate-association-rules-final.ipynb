{
 "cells": [
  {
   "cell_type": "code",
   "execution_count": 1,
   "metadata": {
    "ExecuteTime": {
     "end_time": "2021-06-10T12:30:25.010350Z",
     "start_time": "2021-06-10T12:30:24.337141Z"
    }
   },
   "outputs": [],
   "source": [
    "import json\n",
    "import numpy as np\n",
    "import pandas as pd\n",
    "import plotly.express as px\n",
    "import mlxtend as mlx\n",
    "from tqdm.notebook import tqdm, trange\n",
    "from itertools import chain\n",
    "import time"
   ]
  },
  {
   "cell_type": "code",
   "execution_count": 2,
   "metadata": {
    "ExecuteTime": {
     "end_time": "2021-06-10T12:30:25.020792Z",
     "start_time": "2021-06-10T12:30:25.014099Z"
    }
   },
   "outputs": [],
   "source": [
    "def read_json(path):\n",
    "    file = open(path,'r+', encoding='utf-8')\n",
    "    data = {}\n",
    "    for line in file.readlines():\n",
    "        try: \n",
    "            dic = json.loads(line)\n",
    "            if dic['author'] in data.keys():\n",
    "                if dic['subreddit'] in data[dic['author']].keys():\n",
    "                    data[dic['author']][dic['subreddit']] +=1\n",
    "                else:\n",
    "                    data[dic['author']][dic['subreddit']] =1\n",
    "            else:\n",
    "                data[dic['author']] = {}\n",
    "                data[dic['author']][dic['subreddit']] = 1\n",
    "        except json.JSONDecodeError:\n",
    "            continue\n",
    "    return data"
   ]
  },
  {
   "cell_type": "code",
   "execution_count": 3,
   "metadata": {
    "ExecuteTime": {
     "end_time": "2021-06-10T12:30:25.028434Z",
     "start_time": "2021-06-10T12:30:25.024084Z"
    }
   },
   "outputs": [],
   "source": [
    "def jsonKeys2int(x):\n",
    "    if isinstance(x, dict):\n",
    "            return {int(k):v for k,v in x.items()}\n",
    "    return x"
   ]
  },
  {
   "cell_type": "code",
   "execution_count": 4,
   "metadata": {
    "ExecuteTime": {
     "end_time": "2021-06-10T12:30:25.119129Z",
     "start_time": "2021-06-10T12:30:25.031759Z"
    }
   },
   "outputs": [],
   "source": [
    "data = json.load(open('../reddit_scrapper/data/scrapped_data.json','r+'))\n",
    "subreddit_names_list = json.load(open('../reddit_scrapper/data/list_of_unique_subreddits.json','r+'))\n"
   ]
  },
  {
   "cell_type": "code",
   "execution_count": 5,
   "metadata": {
    "ExecuteTime": {
     "end_time": "2021-06-10T12:30:25.129971Z",
     "start_time": "2021-06-10T12:30:25.121626Z"
    }
   },
   "outputs": [],
   "source": [
    "subreddit_index = dict(zip(subreddit_names_list,range(len(subreddit_names_list))))\n",
    "index_subreddit =  dict(zip(range(len(subreddit_names_list)),subreddit_names_list))"
   ]
  },
  {
   "cell_type": "code",
   "execution_count": 6,
   "metadata": {
    "ExecuteTime": {
     "end_time": "2021-06-10T12:30:25.137945Z",
     "start_time": "2021-06-10T12:30:25.132962Z"
    }
   },
   "outputs": [],
   "source": [
    "def create_matrix(data,matrix_width,subreddit_index):\n",
    "    \"\"\" Creates matrix filled with zeros and iterates over it filling the cells based on \n",
    "        the subreddit-index dictionary\"\"\"\n",
    "    matrix = np.zeros(shape=(len(data),matrix_width))\n",
    "    for idx,redditor in enumerate(data.values()):\n",
    "        for key,value in redditor.items():\n",
    "            matrix[idx,subreddit_index[key]] = value\n",
    "    return matrix"
   ]
  },
  {
   "cell_type": "code",
   "execution_count": 7,
   "metadata": {
    "ExecuteTime": {
     "end_time": "2021-06-10T12:30:25.147903Z",
     "start_time": "2021-06-10T12:30:25.142920Z"
    }
   },
   "outputs": [],
   "source": [
    "def update_dictionaries(new_redditors,subreddit_index,index_subreddit,subreddit_names_list):\n",
    "    \"\"\" Updating index-subreddit,subreddit-index dictionaries and subreddit_names_list according to the\n",
    "        new_redditors- new incoming data\"\"\"\n",
    "    for redditor in new_redditors.values():\n",
    "        for i in redditor.keys():\n",
    "            if i not in subreddit_names_list:\n",
    "                subreddit_index[i] = len(subreddit_index)\n",
    "                index_subreddit[len(index_subreddit)] = i\n",
    "                subreddit_names_list.append(i)\n",
    "    return subreddit_index,index_subreddit,subreddit_names_list"
   ]
  },
  {
   "cell_type": "code",
   "execution_count": 8,
   "metadata": {
    "ExecuteTime": {
     "end_time": "2021-06-10T12:30:25.156564Z",
     "start_time": "2021-06-10T12:30:25.151918Z"
    }
   },
   "outputs": [],
   "source": [
    "def resize_matrix_width(matrix,subreddit_index):\n",
    "    \"\"\" Updating the width of the main matrix to match it with the incoming data\"\"\"\n",
    "    if matrix.shape[1] != len(subreddit_index):\n",
    "        extension = np.zeros((matrix.shape[0],len(subreddit_index)-matrix.shape[1]))\n",
    "        matrix = np.hstack((matrix, extension))\n",
    "    return matrix "
   ]
  },
  {
   "cell_type": "code",
   "execution_count": 9,
   "metadata": {
    "ExecuteTime": {
     "end_time": "2021-06-10T12:30:25.165192Z",
     "start_time": "2021-06-10T12:30:25.160026Z"
    }
   },
   "outputs": [],
   "source": [
    "def update(matrix,new_redditors,subreddit_index,index_subreddit,subreddit_names_list):\n",
    "    \"\"\"Function that manages new incoming data and combines it with the main matrix\"\"\"\n",
    "    subreddit_index,index_subreddit,subreddit_names_list = \\\n",
    "    update_dictionaries(new_redditors,subreddit_index,index_subreddit,subreddit_names_list)\n",
    "    matrix = resize_matrix_width(matrix,subreddit_index)\n",
    "    recent_data = create_matrix(new_redditors,matrix.shape[1],subreddit_index)\n",
    "    matrix = np.vstack((matrix, recent_data))\n",
    "    return matrix,subreddit_index,index_subreddit,subreddit_names_list"
   ]
  },
  {
   "cell_type": "markdown",
   "metadata": {},
   "source": [
    "### Create matrix"
   ]
  },
  {
   "cell_type": "markdown",
   "metadata": {},
   "source": [
    "Remove rows and columns where all cells contains integer less or equal to 5. E.g. when a redditor comments less than threshold (6) times in a given reddit we consider an inconsiderable input so we floor it to zero. If a given redditor has commented less than the threshold in all the reddits (0/False vector) we remove him from the data. Same applies to reddit sites."
   ]
  },
  {
   "cell_type": "code",
   "execution_count": 10,
   "metadata": {
    "ExecuteTime": {
     "end_time": "2021-06-10T12:30:25.413975Z",
     "start_time": "2021-06-10T12:30:25.167733Z"
    }
   },
   "outputs": [],
   "source": [
    "matrix = create_matrix(data,len(subreddit_names_list),subreddit_index)"
   ]
  },
  {
   "cell_type": "code",
   "execution_count": 11,
   "metadata": {
    "ExecuteTime": {
     "end_time": "2021-06-10T12:30:26.657251Z",
     "start_time": "2021-06-10T12:30:25.416585Z"
    }
   },
   "outputs": [],
   "source": [
    "mask = np.where(matrix>2,True,False)\n",
    "rows = ~np.all(mask==False,axis=1)\n",
    "columns = ~np.all(mask==False,axis=0)\n",
    "del mask\n",
    "data = matrix[np.ix_(rows,columns)]\n",
    "df = pd.DataFrame(data,columns=np.squeeze(np.argwhere(columns)))\n",
    "del rows\n",
    "del columns\n",
    "del data\n",
    "del matrix\n",
    "df.rename(columns=index_subreddit,inplace=True)"
   ]
  },
  {
   "cell_type": "code",
   "execution_count": 12,
   "metadata": {},
   "outputs": [
    {
     "data": {
      "text/plain": [
       "(33044, 21383)"
      ]
     },
     "execution_count": 12,
     "metadata": {},
     "output_type": "execute_result"
    }
   ],
   "source": [
    "df.shape"
   ]
  },
  {
   "cell_type": "code",
   "execution_count": 13,
   "metadata": {},
   "outputs": [],
   "source": [
    "upper_limit = 10000 ##  Choose number of most popular reddits\n",
    "lower_limit = 20"
   ]
  },
  {
   "cell_type": "code",
   "execution_count": 14,
   "metadata": {},
   "outputs": [],
   "source": [
    "most_popular_reddits = df.sum(axis=0).sort_values(ascending=False)[lower_limit:upper_limit].index"
   ]
  },
  {
   "cell_type": "code",
   "execution_count": 15,
   "metadata": {
    "ExecuteTime": {
     "end_time": "2021-06-10T12:30:26.921461Z",
     "start_time": "2021-06-10T12:30:26.659515Z"
    }
   },
   "outputs": [],
   "source": [
    "df_bool = df.loc[:,most_popular_reddits].astype(bool).astype(int)"
   ]
  },
  {
   "cell_type": "code",
   "execution_count": 16,
   "metadata": {},
   "outputs": [],
   "source": [
    "del df\n",
    "del most_popular_reddits"
   ]
  },
  {
   "cell_type": "code",
   "execution_count": 17,
   "metadata": {},
   "outputs": [
    {
     "data": {
      "text/html": [
       "<div>\n",
       "<style scoped>\n",
       "    .dataframe tbody tr th:only-of-type {\n",
       "        vertical-align: middle;\n",
       "    }\n",
       "\n",
       "    .dataframe tbody tr th {\n",
       "        vertical-align: top;\n",
       "    }\n",
       "\n",
       "    .dataframe thead th {\n",
       "        text-align: right;\n",
       "    }\n",
       "</style>\n",
       "<table border=\"1\" class=\"dataframe\">\n",
       "  <thead>\n",
       "    <tr style=\"text-align: right;\">\n",
       "      <th></th>\n",
       "      <th>Cringetopia</th>\n",
       "      <th>nextfuckinglevel</th>\n",
       "      <th>funny</th>\n",
       "      <th>hockey</th>\n",
       "      <th>pics</th>\n",
       "      <th>neoliberal</th>\n",
       "      <th>leagueoflegends</th>\n",
       "      <th>nfl</th>\n",
       "      <th>gaming</th>\n",
       "      <th>tennis</th>\n",
       "      <th>...</th>\n",
       "      <th>RivalsOfAether</th>\n",
       "      <th>DerechoGenial</th>\n",
       "      <th>BBWVideos</th>\n",
       "      <th>R6STeams</th>\n",
       "      <th>mintmobile</th>\n",
       "      <th>RealLifeShinies</th>\n",
       "      <th>mc5</th>\n",
       "      <th>VideoGameDealsCanada</th>\n",
       "      <th>recruiting</th>\n",
       "      <th>HairyCurvy</th>\n",
       "    </tr>\n",
       "  </thead>\n",
       "  <tbody>\n",
       "    <tr>\n",
       "      <th>0</th>\n",
       "      <td>0</td>\n",
       "      <td>0</td>\n",
       "      <td>0</td>\n",
       "      <td>0</td>\n",
       "      <td>0</td>\n",
       "      <td>0</td>\n",
       "      <td>0</td>\n",
       "      <td>0</td>\n",
       "      <td>0</td>\n",
       "      <td>0</td>\n",
       "      <td>...</td>\n",
       "      <td>0</td>\n",
       "      <td>0</td>\n",
       "      <td>0</td>\n",
       "      <td>0</td>\n",
       "      <td>0</td>\n",
       "      <td>0</td>\n",
       "      <td>0</td>\n",
       "      <td>0</td>\n",
       "      <td>0</td>\n",
       "      <td>0</td>\n",
       "    </tr>\n",
       "    <tr>\n",
       "      <th>1</th>\n",
       "      <td>0</td>\n",
       "      <td>0</td>\n",
       "      <td>0</td>\n",
       "      <td>0</td>\n",
       "      <td>0</td>\n",
       "      <td>0</td>\n",
       "      <td>0</td>\n",
       "      <td>0</td>\n",
       "      <td>0</td>\n",
       "      <td>0</td>\n",
       "      <td>...</td>\n",
       "      <td>0</td>\n",
       "      <td>0</td>\n",
       "      <td>0</td>\n",
       "      <td>0</td>\n",
       "      <td>0</td>\n",
       "      <td>0</td>\n",
       "      <td>0</td>\n",
       "      <td>0</td>\n",
       "      <td>0</td>\n",
       "      <td>0</td>\n",
       "    </tr>\n",
       "    <tr>\n",
       "      <th>2</th>\n",
       "      <td>0</td>\n",
       "      <td>0</td>\n",
       "      <td>0</td>\n",
       "      <td>0</td>\n",
       "      <td>0</td>\n",
       "      <td>0</td>\n",
       "      <td>0</td>\n",
       "      <td>0</td>\n",
       "      <td>0</td>\n",
       "      <td>0</td>\n",
       "      <td>...</td>\n",
       "      <td>0</td>\n",
       "      <td>0</td>\n",
       "      <td>0</td>\n",
       "      <td>0</td>\n",
       "      <td>0</td>\n",
       "      <td>0</td>\n",
       "      <td>0</td>\n",
       "      <td>0</td>\n",
       "      <td>0</td>\n",
       "      <td>0</td>\n",
       "    </tr>\n",
       "    <tr>\n",
       "      <th>3</th>\n",
       "      <td>0</td>\n",
       "      <td>0</td>\n",
       "      <td>0</td>\n",
       "      <td>0</td>\n",
       "      <td>0</td>\n",
       "      <td>0</td>\n",
       "      <td>0</td>\n",
       "      <td>0</td>\n",
       "      <td>0</td>\n",
       "      <td>0</td>\n",
       "      <td>...</td>\n",
       "      <td>0</td>\n",
       "      <td>0</td>\n",
       "      <td>0</td>\n",
       "      <td>0</td>\n",
       "      <td>0</td>\n",
       "      <td>0</td>\n",
       "      <td>0</td>\n",
       "      <td>0</td>\n",
       "      <td>0</td>\n",
       "      <td>0</td>\n",
       "    </tr>\n",
       "    <tr>\n",
       "      <th>4</th>\n",
       "      <td>0</td>\n",
       "      <td>0</td>\n",
       "      <td>0</td>\n",
       "      <td>0</td>\n",
       "      <td>0</td>\n",
       "      <td>0</td>\n",
       "      <td>0</td>\n",
       "      <td>0</td>\n",
       "      <td>0</td>\n",
       "      <td>0</td>\n",
       "      <td>...</td>\n",
       "      <td>0</td>\n",
       "      <td>0</td>\n",
       "      <td>0</td>\n",
       "      <td>0</td>\n",
       "      <td>0</td>\n",
       "      <td>0</td>\n",
       "      <td>0</td>\n",
       "      <td>0</td>\n",
       "      <td>0</td>\n",
       "      <td>0</td>\n",
       "    </tr>\n",
       "    <tr>\n",
       "      <th>...</th>\n",
       "      <td>...</td>\n",
       "      <td>...</td>\n",
       "      <td>...</td>\n",
       "      <td>...</td>\n",
       "      <td>...</td>\n",
       "      <td>...</td>\n",
       "      <td>...</td>\n",
       "      <td>...</td>\n",
       "      <td>...</td>\n",
       "      <td>...</td>\n",
       "      <td>...</td>\n",
       "      <td>...</td>\n",
       "      <td>...</td>\n",
       "      <td>...</td>\n",
       "      <td>...</td>\n",
       "      <td>...</td>\n",
       "      <td>...</td>\n",
       "      <td>...</td>\n",
       "      <td>...</td>\n",
       "      <td>...</td>\n",
       "      <td>...</td>\n",
       "    </tr>\n",
       "    <tr>\n",
       "      <th>33039</th>\n",
       "      <td>0</td>\n",
       "      <td>0</td>\n",
       "      <td>0</td>\n",
       "      <td>0</td>\n",
       "      <td>0</td>\n",
       "      <td>0</td>\n",
       "      <td>0</td>\n",
       "      <td>0</td>\n",
       "      <td>0</td>\n",
       "      <td>0</td>\n",
       "      <td>...</td>\n",
       "      <td>0</td>\n",
       "      <td>0</td>\n",
       "      <td>0</td>\n",
       "      <td>0</td>\n",
       "      <td>0</td>\n",
       "      <td>0</td>\n",
       "      <td>0</td>\n",
       "      <td>0</td>\n",
       "      <td>0</td>\n",
       "      <td>0</td>\n",
       "    </tr>\n",
       "    <tr>\n",
       "      <th>33040</th>\n",
       "      <td>0</td>\n",
       "      <td>0</td>\n",
       "      <td>0</td>\n",
       "      <td>0</td>\n",
       "      <td>0</td>\n",
       "      <td>0</td>\n",
       "      <td>0</td>\n",
       "      <td>0</td>\n",
       "      <td>0</td>\n",
       "      <td>0</td>\n",
       "      <td>...</td>\n",
       "      <td>0</td>\n",
       "      <td>0</td>\n",
       "      <td>0</td>\n",
       "      <td>0</td>\n",
       "      <td>0</td>\n",
       "      <td>0</td>\n",
       "      <td>0</td>\n",
       "      <td>0</td>\n",
       "      <td>0</td>\n",
       "      <td>0</td>\n",
       "    </tr>\n",
       "    <tr>\n",
       "      <th>33041</th>\n",
       "      <td>0</td>\n",
       "      <td>0</td>\n",
       "      <td>0</td>\n",
       "      <td>0</td>\n",
       "      <td>0</td>\n",
       "      <td>0</td>\n",
       "      <td>0</td>\n",
       "      <td>0</td>\n",
       "      <td>0</td>\n",
       "      <td>0</td>\n",
       "      <td>...</td>\n",
       "      <td>0</td>\n",
       "      <td>0</td>\n",
       "      <td>0</td>\n",
       "      <td>0</td>\n",
       "      <td>0</td>\n",
       "      <td>0</td>\n",
       "      <td>0</td>\n",
       "      <td>0</td>\n",
       "      <td>0</td>\n",
       "      <td>0</td>\n",
       "    </tr>\n",
       "    <tr>\n",
       "      <th>33042</th>\n",
       "      <td>0</td>\n",
       "      <td>0</td>\n",
       "      <td>0</td>\n",
       "      <td>0</td>\n",
       "      <td>0</td>\n",
       "      <td>0</td>\n",
       "      <td>0</td>\n",
       "      <td>0</td>\n",
       "      <td>0</td>\n",
       "      <td>0</td>\n",
       "      <td>...</td>\n",
       "      <td>0</td>\n",
       "      <td>0</td>\n",
       "      <td>0</td>\n",
       "      <td>0</td>\n",
       "      <td>0</td>\n",
       "      <td>0</td>\n",
       "      <td>0</td>\n",
       "      <td>0</td>\n",
       "      <td>0</td>\n",
       "      <td>0</td>\n",
       "    </tr>\n",
       "    <tr>\n",
       "      <th>33043</th>\n",
       "      <td>0</td>\n",
       "      <td>0</td>\n",
       "      <td>0</td>\n",
       "      <td>0</td>\n",
       "      <td>0</td>\n",
       "      <td>0</td>\n",
       "      <td>0</td>\n",
       "      <td>0</td>\n",
       "      <td>0</td>\n",
       "      <td>0</td>\n",
       "      <td>...</td>\n",
       "      <td>0</td>\n",
       "      <td>0</td>\n",
       "      <td>0</td>\n",
       "      <td>0</td>\n",
       "      <td>0</td>\n",
       "      <td>0</td>\n",
       "      <td>0</td>\n",
       "      <td>0</td>\n",
       "      <td>0</td>\n",
       "      <td>0</td>\n",
       "    </tr>\n",
       "  </tbody>\n",
       "</table>\n",
       "<p>33044 rows × 9980 columns</p>\n",
       "</div>"
      ],
      "text/plain": [
       "       Cringetopia  nextfuckinglevel  funny  hockey  pics  neoliberal  \\\n",
       "0                0                 0      0       0     0           0   \n",
       "1                0                 0      0       0     0           0   \n",
       "2                0                 0      0       0     0           0   \n",
       "3                0                 0      0       0     0           0   \n",
       "4                0                 0      0       0     0           0   \n",
       "...            ...               ...    ...     ...   ...         ...   \n",
       "33039            0                 0      0       0     0           0   \n",
       "33040            0                 0      0       0     0           0   \n",
       "33041            0                 0      0       0     0           0   \n",
       "33042            0                 0      0       0     0           0   \n",
       "33043            0                 0      0       0     0           0   \n",
       "\n",
       "       leagueoflegends  nfl  gaming  tennis  ...  RivalsOfAether  \\\n",
       "0                    0    0       0       0  ...               0   \n",
       "1                    0    0       0       0  ...               0   \n",
       "2                    0    0       0       0  ...               0   \n",
       "3                    0    0       0       0  ...               0   \n",
       "4                    0    0       0       0  ...               0   \n",
       "...                ...  ...     ...     ...  ...             ...   \n",
       "33039                0    0       0       0  ...               0   \n",
       "33040                0    0       0       0  ...               0   \n",
       "33041                0    0       0       0  ...               0   \n",
       "33042                0    0       0       0  ...               0   \n",
       "33043                0    0       0       0  ...               0   \n",
       "\n",
       "       DerechoGenial  BBWVideos  R6STeams  mintmobile  RealLifeShinies  mc5  \\\n",
       "0                  0          0         0           0                0    0   \n",
       "1                  0          0         0           0                0    0   \n",
       "2                  0          0         0           0                0    0   \n",
       "3                  0          0         0           0                0    0   \n",
       "4                  0          0         0           0                0    0   \n",
       "...              ...        ...       ...         ...              ...  ...   \n",
       "33039              0          0         0           0                0    0   \n",
       "33040              0          0         0           0                0    0   \n",
       "33041              0          0         0           0                0    0   \n",
       "33042              0          0         0           0                0    0   \n",
       "33043              0          0         0           0                0    0   \n",
       "\n",
       "       VideoGameDealsCanada  recruiting  HairyCurvy  \n",
       "0                         0           0           0  \n",
       "1                         0           0           0  \n",
       "2                         0           0           0  \n",
       "3                         0           0           0  \n",
       "4                         0           0           0  \n",
       "...                     ...         ...         ...  \n",
       "33039                     0           0           0  \n",
       "33040                     0           0           0  \n",
       "33041                     0           0           0  \n",
       "33042                     0           0           0  \n",
       "33043                     0           0           0  \n",
       "\n",
       "[33044 rows x 9980 columns]"
      ]
     },
     "execution_count": 17,
     "metadata": {},
     "output_type": "execute_result"
    }
   ],
   "source": [
    "df_bool"
   ]
  },
  {
   "cell_type": "code",
   "execution_count": 18,
   "metadata": {
    "ExecuteTime": {
     "end_time": "2021-06-10T12:38:39.333179Z",
     "start_time": "2021-06-10T12:30:24.652Z"
    }
   },
   "outputs": [],
   "source": [
    "from mlxtend.preprocessing import TransactionEncoder\n",
    "from mlxtend.frequent_patterns import apriori\n",
    "from mlxtend.frequent_patterns import association_rules"
   ]
  },
  {
   "cell_type": "markdown",
   "metadata": {},
   "source": [
    "# DVC\n",
    "We can generate rules with parameters (upper_limit,min_support)\n",
    "## JSON:\n",
    "(5000, 0.0004) (5000, 0.00035) (10000, 0.00035)\n",
    "## DB:\n",
    "(5000, 0.00032) (10000, 0.00032)\n",
    "and save them to JSON and to database with file names:\n",
    "## JSON:\n",
    "arules-upper_limit-min_support.json\n",
    "## Database:\n",
    "arules-upper_limit-min_support.db\n",
    "for db use script in getrulesdb"
   ]
  },
  {
   "cell_type": "code",
   "execution_count": 19,
   "metadata": {
    "ExecuteTime": {
     "end_time": "2021-06-10T12:38:39.335750Z",
     "start_time": "2021-06-10T12:30:24.662Z"
    }
   },
   "outputs": [
    {
     "name": "stdout",
     "output_type": "stream",
     "text": [
      "Processing 81416 combinations | Sampling itemset size 76\n"
     ]
    }
   ],
   "source": [
    "frequent_itemsets = apriori(df_bool, min_support=0.00035,\n",
    "                            use_colnames=True, low_memory=True,\n",
    "                            verbose=2, max_len=7)"
   ]
  },
  {
   "cell_type": "code",
   "execution_count": 20,
   "metadata": {},
   "outputs": [],
   "source": [
    "del df_bool"
   ]
  },
  {
   "cell_type": "code",
   "execution_count": 21,
   "metadata": {},
   "outputs": [],
   "source": [
    "rules = association_rules(frequent_itemsets, \n",
    "                  metric='lift', \n",
    "                  min_threshold=1.01)"
   ]
  },
  {
   "cell_type": "code",
   "execution_count": 22,
   "metadata": {
    "scrolled": false
   },
   "outputs": [
    {
     "data": {
      "text/html": [
       "<div>\n",
       "<style scoped>\n",
       "    .dataframe tbody tr th:only-of-type {\n",
       "        vertical-align: middle;\n",
       "    }\n",
       "\n",
       "    .dataframe tbody tr th {\n",
       "        vertical-align: top;\n",
       "    }\n",
       "\n",
       "    .dataframe thead th {\n",
       "        text-align: right;\n",
       "    }\n",
       "</style>\n",
       "<table border=\"1\" class=\"dataframe\">\n",
       "  <thead>\n",
       "    <tr style=\"text-align: right;\">\n",
       "      <th></th>\n",
       "      <th>antecedents</th>\n",
       "      <th>consequents</th>\n",
       "      <th>antecedent support</th>\n",
       "      <th>consequent support</th>\n",
       "      <th>support</th>\n",
       "      <th>confidence</th>\n",
       "      <th>lift</th>\n",
       "      <th>leverage</th>\n",
       "      <th>conviction</th>\n",
       "    </tr>\n",
       "  </thead>\n",
       "  <tbody>\n",
       "    <tr>\n",
       "      <th>0</th>\n",
       "      <td>(Cringetopia)</td>\n",
       "      <td>(nextfuckinglevel)</td>\n",
       "      <td>0.044759</td>\n",
       "      <td>0.079712</td>\n",
       "      <td>0.009866</td>\n",
       "      <td>0.220419</td>\n",
       "      <td>2.765198</td>\n",
       "      <td>0.006298</td>\n",
       "      <td>1.180491</td>\n",
       "    </tr>\n",
       "    <tr>\n",
       "      <th>1</th>\n",
       "      <td>(nextfuckinglevel)</td>\n",
       "      <td>(Cringetopia)</td>\n",
       "      <td>0.079712</td>\n",
       "      <td>0.044759</td>\n",
       "      <td>0.009866</td>\n",
       "      <td>0.123766</td>\n",
       "      <td>2.765198</td>\n",
       "      <td>0.006298</td>\n",
       "      <td>1.090167</td>\n",
       "    </tr>\n",
       "    <tr>\n",
       "      <th>2</th>\n",
       "      <td>(funny)</td>\n",
       "      <td>(Cringetopia)</td>\n",
       "      <td>0.079742</td>\n",
       "      <td>0.044759</td>\n",
       "      <td>0.006839</td>\n",
       "      <td>0.085769</td>\n",
       "      <td>1.916250</td>\n",
       "      <td>0.003270</td>\n",
       "      <td>1.044857</td>\n",
       "    </tr>\n",
       "    <tr>\n",
       "      <th>3</th>\n",
       "      <td>(Cringetopia)</td>\n",
       "      <td>(funny)</td>\n",
       "      <td>0.044759</td>\n",
       "      <td>0.079742</td>\n",
       "      <td>0.006839</td>\n",
       "      <td>0.152806</td>\n",
       "      <td>1.916250</td>\n",
       "      <td>0.003270</td>\n",
       "      <td>1.086242</td>\n",
       "    </tr>\n",
       "    <tr>\n",
       "      <th>4</th>\n",
       "      <td>(pics)</td>\n",
       "      <td>(Cringetopia)</td>\n",
       "      <td>0.072449</td>\n",
       "      <td>0.044759</td>\n",
       "      <td>0.006083</td>\n",
       "      <td>0.083960</td>\n",
       "      <td>1.875842</td>\n",
       "      <td>0.002840</td>\n",
       "      <td>1.042794</td>\n",
       "    </tr>\n",
       "    <tr>\n",
       "      <th>...</th>\n",
       "      <td>...</td>\n",
       "      <td>...</td>\n",
       "      <td>...</td>\n",
       "      <td>...</td>\n",
       "      <td>...</td>\n",
       "      <td>...</td>\n",
       "      <td>...</td>\n",
       "      <td>...</td>\n",
       "      <td>...</td>\n",
       "    </tr>\n",
       "    <tr>\n",
       "      <th>3963457</th>\n",
       "      <td>(OnlyfansAddict)</td>\n",
       "      <td>(HotOnlyfans, onlyfanssubscribe, OnlyfansXXX, ...</td>\n",
       "      <td>0.001483</td>\n",
       "      <td>0.000424</td>\n",
       "      <td>0.000363</td>\n",
       "      <td>0.244898</td>\n",
       "      <td>578.029155</td>\n",
       "      <td>0.000363</td>\n",
       "      <td>1.323763</td>\n",
       "    </tr>\n",
       "    <tr>\n",
       "      <th>3963458</th>\n",
       "      <td>(OnlyfansXXX)</td>\n",
       "      <td>(HotOnlyfans, onlyfanssubscribe, OnlyfansAddic...</td>\n",
       "      <td>0.002239</td>\n",
       "      <td>0.000363</td>\n",
       "      <td>0.000363</td>\n",
       "      <td>0.162162</td>\n",
       "      <td>446.540541</td>\n",
       "      <td>0.000362</td>\n",
       "      <td>1.193115</td>\n",
       "    </tr>\n",
       "    <tr>\n",
       "      <th>3963459</th>\n",
       "      <td>(onlyfans_get_noticed)</td>\n",
       "      <td>(HotOnlyfans, onlyfanssubscribe, OnlyfansAddic...</td>\n",
       "      <td>0.001634</td>\n",
       "      <td>0.000393</td>\n",
       "      <td>0.000363</td>\n",
       "      <td>0.222222</td>\n",
       "      <td>564.854701</td>\n",
       "      <td>0.000363</td>\n",
       "      <td>1.285208</td>\n",
       "    </tr>\n",
       "    <tr>\n",
       "      <th>3963460</th>\n",
       "      <td>(OnlyfansAmateurs)</td>\n",
       "      <td>(HotOnlyfans, onlyfanssubscribe, OnlyfansAddic...</td>\n",
       "      <td>0.002028</td>\n",
       "      <td>0.000363</td>\n",
       "      <td>0.000363</td>\n",
       "      <td>0.179104</td>\n",
       "      <td>493.194030</td>\n",
       "      <td>0.000362</td>\n",
       "      <td>1.217739</td>\n",
       "    </tr>\n",
       "    <tr>\n",
       "      <th>3963461</th>\n",
       "      <td>(SexyOnlyfansGirls)</td>\n",
       "      <td>(HotOnlyfans, onlyfanssubscribe, OnlyfansAddic...</td>\n",
       "      <td>0.001695</td>\n",
       "      <td>0.000363</td>\n",
       "      <td>0.000363</td>\n",
       "      <td>0.214286</td>\n",
       "      <td>590.071429</td>\n",
       "      <td>0.000363</td>\n",
       "      <td>1.272265</td>\n",
       "    </tr>\n",
       "  </tbody>\n",
       "</table>\n",
       "<p>3963462 rows × 9 columns</p>\n",
       "</div>"
      ],
      "text/plain": [
       "                    antecedents  \\\n",
       "0                 (Cringetopia)   \n",
       "1            (nextfuckinglevel)   \n",
       "2                       (funny)   \n",
       "3                 (Cringetopia)   \n",
       "4                        (pics)   \n",
       "...                         ...   \n",
       "3963457        (OnlyfansAddict)   \n",
       "3963458           (OnlyfansXXX)   \n",
       "3963459  (onlyfans_get_noticed)   \n",
       "3963460      (OnlyfansAmateurs)   \n",
       "3963461     (SexyOnlyfansGirls)   \n",
       "\n",
       "                                               consequents  \\\n",
       "0                                       (nextfuckinglevel)   \n",
       "1                                            (Cringetopia)   \n",
       "2                                            (Cringetopia)   \n",
       "3                                                  (funny)   \n",
       "4                                            (Cringetopia)   \n",
       "...                                                    ...   \n",
       "3963457  (HotOnlyfans, onlyfanssubscribe, OnlyfansXXX, ...   \n",
       "3963458  (HotOnlyfans, onlyfanssubscribe, OnlyfansAddic...   \n",
       "3963459  (HotOnlyfans, onlyfanssubscribe, OnlyfansAddic...   \n",
       "3963460  (HotOnlyfans, onlyfanssubscribe, OnlyfansAddic...   \n",
       "3963461  (HotOnlyfans, onlyfanssubscribe, OnlyfansAddic...   \n",
       "\n",
       "         antecedent support  consequent support   support  confidence  \\\n",
       "0                  0.044759            0.079712  0.009866    0.220419   \n",
       "1                  0.079712            0.044759  0.009866    0.123766   \n",
       "2                  0.079742            0.044759  0.006839    0.085769   \n",
       "3                  0.044759            0.079742  0.006839    0.152806   \n",
       "4                  0.072449            0.044759  0.006083    0.083960   \n",
       "...                     ...                 ...       ...         ...   \n",
       "3963457            0.001483            0.000424  0.000363    0.244898   \n",
       "3963458            0.002239            0.000363  0.000363    0.162162   \n",
       "3963459            0.001634            0.000393  0.000363    0.222222   \n",
       "3963460            0.002028            0.000363  0.000363    0.179104   \n",
       "3963461            0.001695            0.000363  0.000363    0.214286   \n",
       "\n",
       "               lift  leverage  conviction  \n",
       "0          2.765198  0.006298    1.180491  \n",
       "1          2.765198  0.006298    1.090167  \n",
       "2          1.916250  0.003270    1.044857  \n",
       "3          1.916250  0.003270    1.086242  \n",
       "4          1.875842  0.002840    1.042794  \n",
       "...             ...       ...         ...  \n",
       "3963457  578.029155  0.000363    1.323763  \n",
       "3963458  446.540541  0.000362    1.193115  \n",
       "3963459  564.854701  0.000363    1.285208  \n",
       "3963460  493.194030  0.000362    1.217739  \n",
       "3963461  590.071429  0.000363    1.272265  \n",
       "\n",
       "[3963462 rows x 9 columns]"
      ]
     },
     "execution_count": 22,
     "metadata": {},
     "output_type": "execute_result"
    }
   ],
   "source": [
    "rules"
   ]
  },
  {
   "cell_type": "code",
   "execution_count": 23,
   "metadata": {},
   "outputs": [],
   "source": [
    "del frequent_itemsets"
   ]
  },
  {
   "cell_type": "code",
   "execution_count": 24,
   "metadata": {
    "ExecuteTime": {
     "end_time": "2021-06-10T12:38:39.338293Z",
     "start_time": "2021-06-10T12:30:24.667Z"
    }
   },
   "outputs": [],
   "source": [
    "# rules.to_json(\"../data/arules-10000-0005|\"+str(time.time())+\".json\")\n",
    "rules.to_json(\"../data/arules-10000-00035.json\")"
   ]
  },
  {
   "cell_type": "code",
   "execution_count": 25,
   "metadata": {},
   "outputs": [],
   "source": [
    "del rules"
   ]
  },
  {
   "cell_type": "code",
   "execution_count": null,
   "metadata": {},
   "outputs": [],
   "source": []
  }
 ],
 "metadata": {
  "kernelspec": {
   "display_name": "Python [conda env:dataviz]",
   "language": "python",
   "name": "conda-env-dataviz-py"
  },
  "language_info": {
   "codemirror_mode": {
    "name": "ipython",
    "version": 3
   },
   "file_extension": ".py",
   "mimetype": "text/x-python",
   "name": "python",
   "nbconvert_exporter": "python",
   "pygments_lexer": "ipython3",
   "version": "3.8.8"
  },
  "toc": {
   "base_numbering": 1,
   "nav_menu": {},
   "number_sections": true,
   "sideBar": true,
   "skip_h1_title": false,
   "title_cell": "Table of Contents",
   "title_sidebar": "Contents",
   "toc_cell": false,
   "toc_position": {},
   "toc_section_display": true,
   "toc_window_display": false
  }
 },
 "nbformat": 4,
 "nbformat_minor": 4
}
